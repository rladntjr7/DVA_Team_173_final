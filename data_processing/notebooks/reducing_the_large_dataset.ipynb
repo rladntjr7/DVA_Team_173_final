{
 "cells": [
  {
   "cell_type": "code",
   "execution_count": 4,
   "id": "67fe6038-b823-4df3-94c5-77898ef41511",
   "metadata": {},
   "outputs": [],
   "source": [
    "import pandas as pd\n",
    "big_fp = '/home/ginger/code/gderiddershanghai/DVA_Team_173/data_full/raw/twitter_data/big_twitter/Tweet.csv'\n",
    "company_tweet_fp = '/home/ginger/code/gderiddershanghai/DVA_Team_173/data_full/raw/twitter_data/big_twitter/Company_Tweet.csv'\n",
    "company_fp = '/home/ginger/code/gderiddershanghai/DVA_Team_173/data_full/raw/twitter_data/big_twitter/Company.csv'"
   ]
  },
  {
   "cell_type": "code",
   "execution_count": 2,
   "id": "1a67062b-f97e-49f9-9ef7-c4c87d34b0dd",
   "metadata": {},
   "outputs": [],
   "source": [
    "df = pd.read_csv(big_fp)"
   ]
  },
  {
   "cell_type": "code",
   "execution_count": 3,
   "id": "8fa3822b-485c-4915-870d-165d185339af",
   "metadata": {},
   "outputs": [
    {
     "data": {
      "text/html": [
       "<div>\n",
       "<style scoped>\n",
       "    .dataframe tbody tr th:only-of-type {\n",
       "        vertical-align: middle;\n",
       "    }\n",
       "\n",
       "    .dataframe tbody tr th {\n",
       "        vertical-align: top;\n",
       "    }\n",
       "\n",
       "    .dataframe thead th {\n",
       "        text-align: right;\n",
       "    }\n",
       "</style>\n",
       "<table border=\"1\" class=\"dataframe\">\n",
       "  <thead>\n",
       "    <tr style=\"text-align: right;\">\n",
       "      <th></th>\n",
       "      <th>tweet_id</th>\n",
       "      <th>writer</th>\n",
       "      <th>post_date</th>\n",
       "      <th>body</th>\n",
       "      <th>comment_num</th>\n",
       "      <th>retweet_num</th>\n",
       "      <th>like_num</th>\n",
       "    </tr>\n",
       "  </thead>\n",
       "  <tbody>\n",
       "    <tr>\n",
       "      <th>0</th>\n",
       "      <td>550441509175443456</td>\n",
       "      <td>VisualStockRSRC</td>\n",
       "      <td>1420070457</td>\n",
       "      <td>lx21 made $10,008  on $AAPL -Check it out! htt...</td>\n",
       "      <td>0</td>\n",
       "      <td>0</td>\n",
       "      <td>1</td>\n",
       "    </tr>\n",
       "    <tr>\n",
       "      <th>1</th>\n",
       "      <td>550441672312512512</td>\n",
       "      <td>KeralaGuy77</td>\n",
       "      <td>1420070496</td>\n",
       "      <td>Insanity of today weirdo massive selling. $aap...</td>\n",
       "      <td>0</td>\n",
       "      <td>0</td>\n",
       "      <td>0</td>\n",
       "    </tr>\n",
       "    <tr>\n",
       "      <th>2</th>\n",
       "      <td>550441732014223360</td>\n",
       "      <td>DozenStocks</td>\n",
       "      <td>1420070510</td>\n",
       "      <td>S&amp;P100 #Stocks Performance $HD $LOW $SBUX $TGT...</td>\n",
       "      <td>0</td>\n",
       "      <td>0</td>\n",
       "      <td>0</td>\n",
       "    </tr>\n",
       "    <tr>\n",
       "      <th>3</th>\n",
       "      <td>550442977802207232</td>\n",
       "      <td>ShowDreamCar</td>\n",
       "      <td>1420070807</td>\n",
       "      <td>$GM $TSLA: Volkswagen Pushes 2014 Record Recal...</td>\n",
       "      <td>0</td>\n",
       "      <td>0</td>\n",
       "      <td>1</td>\n",
       "    </tr>\n",
       "    <tr>\n",
       "      <th>4</th>\n",
       "      <td>550443807834402816</td>\n",
       "      <td>i_Know_First</td>\n",
       "      <td>1420071005</td>\n",
       "      <td>Swing Trading: Up To 8.91% Return In 14 Days h...</td>\n",
       "      <td>0</td>\n",
       "      <td>0</td>\n",
       "      <td>1</td>\n",
       "    </tr>\n",
       "  </tbody>\n",
       "</table>\n",
       "</div>"
      ],
      "text/plain": [
       "             tweet_id           writer   post_date  \\\n",
       "0  550441509175443456  VisualStockRSRC  1420070457   \n",
       "1  550441672312512512      KeralaGuy77  1420070496   \n",
       "2  550441732014223360      DozenStocks  1420070510   \n",
       "3  550442977802207232     ShowDreamCar  1420070807   \n",
       "4  550443807834402816     i_Know_First  1420071005   \n",
       "\n",
       "                                                body  comment_num  \\\n",
       "0  lx21 made $10,008  on $AAPL -Check it out! htt...            0   \n",
       "1  Insanity of today weirdo massive selling. $aap...            0   \n",
       "2  S&P100 #Stocks Performance $HD $LOW $SBUX $TGT...            0   \n",
       "3  $GM $TSLA: Volkswagen Pushes 2014 Record Recal...            0   \n",
       "4  Swing Trading: Up To 8.91% Return In 14 Days h...            0   \n",
       "\n",
       "   retweet_num  like_num  \n",
       "0            0         1  \n",
       "1            0         0  \n",
       "2            0         0  \n",
       "3            0         1  \n",
       "4            0         1  "
      ]
     },
     "execution_count": 3,
     "metadata": {},
     "output_type": "execute_result"
    }
   ],
   "source": [
    "df.head()"
   ]
  },
  {
   "cell_type": "code",
   "execution_count": 7,
   "id": "95a4ca33-52af-4ff5-ae24-d0807f913170",
   "metadata": {},
   "outputs": [
    {
     "data": {
      "text/html": [
       "<div>\n",
       "<style scoped>\n",
       "    .dataframe tbody tr th:only-of-type {\n",
       "        vertical-align: middle;\n",
       "    }\n",
       "\n",
       "    .dataframe tbody tr th {\n",
       "        vertical-align: top;\n",
       "    }\n",
       "\n",
       "    .dataframe thead th {\n",
       "        text-align: right;\n",
       "    }\n",
       "</style>\n",
       "<table border=\"1\" class=\"dataframe\">\n",
       "  <thead>\n",
       "    <tr style=\"text-align: right;\">\n",
       "      <th></th>\n",
       "      <th>tweet_id</th>\n",
       "      <th>ticker_symbol</th>\n",
       "    </tr>\n",
       "  </thead>\n",
       "  <tbody>\n",
       "    <tr>\n",
       "      <th>0</th>\n",
       "      <td>550803612197457920</td>\n",
       "      <td>AAPL</td>\n",
       "    </tr>\n",
       "    <tr>\n",
       "      <th>1</th>\n",
       "      <td>550803610825928706</td>\n",
       "      <td>AAPL</td>\n",
       "    </tr>\n",
       "  </tbody>\n",
       "</table>\n",
       "</div>"
      ],
      "text/plain": [
       "             tweet_id ticker_symbol\n",
       "0  550803612197457920          AAPL\n",
       "1  550803610825928706          AAPL"
      ]
     },
     "execution_count": 7,
     "metadata": {},
     "output_type": "execute_result"
    }
   ],
   "source": [
    "# Index(['Created_at', 'Tweet', 'Stock_ticker', 'Score', 'Source'], dtype='object')\n",
    "pd.read_csv(company_tweet_fp).head(2)"
   ]
  },
  {
   "cell_type": "code",
   "execution_count": 8,
   "id": "3b8f59ce-86dd-4de1-b57c-a15bc71f260f",
   "metadata": {},
   "outputs": [
    {
     "data": {
      "text/html": [
       "<div>\n",
       "<style scoped>\n",
       "    .dataframe tbody tr th:only-of-type {\n",
       "        vertical-align: middle;\n",
       "    }\n",
       "\n",
       "    .dataframe tbody tr th {\n",
       "        vertical-align: top;\n",
       "    }\n",
       "\n",
       "    .dataframe thead th {\n",
       "        text-align: right;\n",
       "    }\n",
       "</style>\n",
       "<table border=\"1\" class=\"dataframe\">\n",
       "  <thead>\n",
       "    <tr style=\"text-align: right;\">\n",
       "      <th></th>\n",
       "      <th>ticker_symbol</th>\n",
       "      <th>company_name</th>\n",
       "    </tr>\n",
       "  </thead>\n",
       "  <tbody>\n",
       "    <tr>\n",
       "      <th>0</th>\n",
       "      <td>AAPL</td>\n",
       "      <td>apple</td>\n",
       "    </tr>\n",
       "    <tr>\n",
       "      <th>1</th>\n",
       "      <td>GOOG</td>\n",
       "      <td>Google Inc</td>\n",
       "    </tr>\n",
       "  </tbody>\n",
       "</table>\n",
       "</div>"
      ],
      "text/plain": [
       "  ticker_symbol company_name\n",
       "0          AAPL        apple\n",
       "1          GOOG   Google Inc"
      ]
     },
     "execution_count": 8,
     "metadata": {},
     "output_type": "execute_result"
    }
   ],
   "source": [
    "# Index(['Created_at', 'Tweet', 'Stock_ticker', 'Score', 'Source'], dtype='object')\n",
    "pd.read_csv(company_fp).head(2)"
   ]
  },
  {
   "cell_type": "markdown",
   "id": "f7fec9b1-79e1-4fe7-b6aa-c433af59874e",
   "metadata": {},
   "source": [
    "### merging all"
   ]
  },
  {
   "cell_type": "code",
   "execution_count": 9,
   "id": "54e1be0f-6985-4b94-a238-f5f1982e23e0",
   "metadata": {},
   "outputs": [],
   "source": [
    "df_tweet_tickers = pd.read_csv(company_tweet_fp)  \n",
    "df_companies = pd.read_csv(company_fp) "
   ]
  },
  {
   "cell_type": "code",
   "execution_count": 10,
   "id": "ee4809e1-0285-4d4b-a83e-506fb0bf777a",
   "metadata": {},
   "outputs": [],
   "source": [
    "df_ticker_company = df_tweet_tickers.merge(df_companies, on='ticker_symbol', how='left')\n",
    "df = df.merge(df_ticker_company, on='tweet_id', how='left')"
   ]
  },
  {
   "cell_type": "code",
   "execution_count": 11,
   "id": "3d0a955b-8925-4185-9540-88bf292da9b0",
   "metadata": {},
   "outputs": [],
   "source": [
    "df['Created_at'] = pd.to_datetime(df['post_date'], unit='s')"
   ]
  },
  {
   "cell_type": "code",
   "execution_count": 15,
   "id": "ef275e0a-a88c-4cdf-b254-e61ce9ff2104",
   "metadata": {},
   "outputs": [],
   "source": [
    "df = df[df['Created_at']>'2017-01-29']"
   ]
  },
  {
   "cell_type": "code",
   "execution_count": 21,
   "id": "6c589fd9-b1f0-4f21-8bbb-6c53bf888754",
   "metadata": {},
   "outputs": [
    {
     "data": {
      "text/plain": [
       "Index(['tweet_id', 'writer', 'post_date', 'body', 'comment_num', 'retweet_num',\n",
       "       'like_num', 'ticker_symbol', 'company_name', 'Created_at', 'Source',\n",
       "       'Tweet', 'Stock_ticker'],\n",
       "      dtype='object')"
      ]
     },
     "execution_count": 21,
     "metadata": {},
     "output_type": "execute_result"
    }
   ],
   "source": [
    "df.columns"
   ]
  },
  {
   "cell_type": "code",
   "execution_count": 18,
   "id": "b2caeb9a-8c5a-4e4c-801f-145065738806",
   "metadata": {},
   "outputs": [
    {
     "data": {
      "text/html": [
       "<div>\n",
       "<style scoped>\n",
       "    .dataframe tbody tr th:only-of-type {\n",
       "        vertical-align: middle;\n",
       "    }\n",
       "\n",
       "    .dataframe tbody tr th {\n",
       "        vertical-align: top;\n",
       "    }\n",
       "\n",
       "    .dataframe thead th {\n",
       "        text-align: right;\n",
       "    }\n",
       "</style>\n",
       "<table border=\"1\" class=\"dataframe\">\n",
       "  <thead>\n",
       "    <tr style=\"text-align: right;\">\n",
       "      <th></th>\n",
       "      <th>tweet_id</th>\n",
       "      <th>writer</th>\n",
       "      <th>post_date</th>\n",
       "      <th>body</th>\n",
       "      <th>comment_num</th>\n",
       "      <th>retweet_num</th>\n",
       "      <th>like_num</th>\n",
       "      <th>ticker_symbol</th>\n",
       "      <th>company_name</th>\n",
       "      <th>Created_at</th>\n",
       "      <th>Source</th>\n",
       "    </tr>\n",
       "  </thead>\n",
       "  <tbody>\n",
       "    <tr>\n",
       "      <th>2188923</th>\n",
       "      <td>885591694334337025</td>\n",
       "      <td>ELPfan</td>\n",
       "      <td>1499976488</td>\n",
       "      <td>Apple: Do iPads Matter Now?...https://seekinga...</td>\n",
       "      <td>0</td>\n",
       "      <td>0</td>\n",
       "      <td>0</td>\n",
       "      <td>AAPL</td>\n",
       "      <td>apple</td>\n",
       "      <td>2017-07-13 20:08:08</td>\n",
       "      <td>Ginger</td>\n",
       "    </tr>\n",
       "  </tbody>\n",
       "</table>\n",
       "</div>"
      ],
      "text/plain": [
       "                   tweet_id  writer   post_date  \\\n",
       "2188923  885591694334337025  ELPfan  1499976488   \n",
       "\n",
       "                                                      body  comment_num  \\\n",
       "2188923  Apple: Do iPads Matter Now?...https://seekinga...            0   \n",
       "\n",
       "         retweet_num  like_num ticker_symbol company_name          Created_at  \\\n",
       "2188923            0         0          AAPL        apple 2017-07-13 20:08:08   \n",
       "\n",
       "         Source  \n",
       "2188923  Ginger  "
      ]
     },
     "execution_count": 18,
     "metadata": {},
     "output_type": "execute_result"
    }
   ],
   "source": [
    "df.sample()"
   ]
  },
  {
   "cell_type": "code",
   "execution_count": 22,
   "id": "78df45bd-0d90-457f-887b-0c1ae3a9157b",
   "metadata": {},
   "outputs": [],
   "source": [
    "# Index(['Created_at', 'Tweet', 'Stock_ticker', 'Score', 'Source'], dtype='object')\n",
    "df['Source'] = 'Ginger'\n",
    "df['Tweet'] = df['body']\n",
    "df['Stock_ticker'] =df['ticker_symbol']\n",
    "df['Company_name'] = df['company_name']"
   ]
  },
  {
   "cell_type": "code",
   "execution_count": 23,
   "id": "98b72fb1-6877-4d04-923a-de14d1b98b2f",
   "metadata": {},
   "outputs": [
    {
     "data": {
      "text/html": [
       "<div>\n",
       "<style scoped>\n",
       "    .dataframe tbody tr th:only-of-type {\n",
       "        vertical-align: middle;\n",
       "    }\n",
       "\n",
       "    .dataframe tbody tr th {\n",
       "        vertical-align: top;\n",
       "    }\n",
       "\n",
       "    .dataframe thead th {\n",
       "        text-align: right;\n",
       "    }\n",
       "</style>\n",
       "<table border=\"1\" class=\"dataframe\">\n",
       "  <thead>\n",
       "    <tr style=\"text-align: right;\">\n",
       "      <th></th>\n",
       "      <th>Tweet</th>\n",
       "      <th>Stock_ticker</th>\n",
       "      <th>Company_name</th>\n",
       "      <th>Created_at</th>\n",
       "      <th>Source</th>\n",
       "    </tr>\n",
       "  </thead>\n",
       "  <tbody>\n",
       "    <tr>\n",
       "      <th>1850587</th>\n",
       "      <td>Google and Yahoo are dodging warrants after #M...</td>\n",
       "      <td>MSFT</td>\n",
       "      <td>Microsoft</td>\n",
       "      <td>2017-01-29 00:01:11</td>\n",
       "      <td>Ginger</td>\n",
       "    </tr>\n",
       "    <tr>\n",
       "      <th>1850588</th>\n",
       "      <td>Apple, #Microsoft and Uber help staff stranded...</td>\n",
       "      <td>MSFT</td>\n",
       "      <td>Microsoft</td>\n",
       "      <td>2017-01-29 00:01:48</td>\n",
       "      <td>Ginger</td>\n",
       "    </tr>\n",
       "    <tr>\n",
       "      <th>1850589</th>\n",
       "      <td>Didn't notice suppliers stock tanked? Tesla ju...</td>\n",
       "      <td>TSLA</td>\n",
       "      <td>Tesla Inc</td>\n",
       "      <td>2017-01-29 00:02:25</td>\n",
       "      <td>Ginger</td>\n",
       "    </tr>\n",
       "    <tr>\n",
       "      <th>1850590</th>\n",
       "      <td>#Google adds more editing capabilities to Docs...</td>\n",
       "      <td>GOOG</td>\n",
       "      <td>Google Inc</td>\n",
       "      <td>2017-01-29 00:02:26</td>\n",
       "      <td>Ginger</td>\n",
       "    </tr>\n",
       "    <tr>\n",
       "      <th>1850591</th>\n",
       "      <td>#Microsoft, HP Team Up For Social Impact Hacka...</td>\n",
       "      <td>MSFT</td>\n",
       "      <td>Microsoft</td>\n",
       "      <td>2017-01-29 00:06:08</td>\n",
       "      <td>Ginger</td>\n",
       "    </tr>\n",
       "    <tr>\n",
       "      <th>...</th>\n",
       "      <td>...</td>\n",
       "      <td>...</td>\n",
       "      <td>...</td>\n",
       "      <td>...</td>\n",
       "      <td>...</td>\n",
       "    </tr>\n",
       "    <tr>\n",
       "      <th>4336440</th>\n",
       "      <td>In 2020 I may start Tweeting out positive news...</td>\n",
       "      <td>TSLA</td>\n",
       "      <td>Tesla Inc</td>\n",
       "      <td>2019-12-31 23:53:21</td>\n",
       "      <td>Ginger</td>\n",
       "    </tr>\n",
       "    <tr>\n",
       "      <th>4336441</th>\n",
       "      <td>Patiently Waiting for the no twitter sitter tw...</td>\n",
       "      <td>TSLA</td>\n",
       "      <td>Tesla Inc</td>\n",
       "      <td>2019-12-31 23:54:03</td>\n",
       "      <td>Ginger</td>\n",
       "    </tr>\n",
       "    <tr>\n",
       "      <th>4336442</th>\n",
       "      <td>I don't discriminate. I own both $aapl and $ms...</td>\n",
       "      <td>AAPL</td>\n",
       "      <td>apple</td>\n",
       "      <td>2019-12-31 23:55:37</td>\n",
       "      <td>Ginger</td>\n",
       "    </tr>\n",
       "    <tr>\n",
       "      <th>4336443</th>\n",
       "      <td>I don't discriminate. I own both $aapl and $ms...</td>\n",
       "      <td>MSFT</td>\n",
       "      <td>Microsoft</td>\n",
       "      <td>2019-12-31 23:55:37</td>\n",
       "      <td>Ginger</td>\n",
       "    </tr>\n",
       "    <tr>\n",
       "      <th>4336444</th>\n",
       "      <td>$AAPL #patent 10,522,475 Vertical interconnect...</td>\n",
       "      <td>AAPL</td>\n",
       "      <td>apple</td>\n",
       "      <td>2019-12-31 23:55:53</td>\n",
       "      <td>Ginger</td>\n",
       "    </tr>\n",
       "  </tbody>\n",
       "</table>\n",
       "<p>2485858 rows × 5 columns</p>\n",
       "</div>"
      ],
      "text/plain": [
       "                                                     Tweet Stock_ticker  \\\n",
       "1850587  Google and Yahoo are dodging warrants after #M...         MSFT   \n",
       "1850588  Apple, #Microsoft and Uber help staff stranded...         MSFT   \n",
       "1850589  Didn't notice suppliers stock tanked? Tesla ju...         TSLA   \n",
       "1850590  #Google adds more editing capabilities to Docs...         GOOG   \n",
       "1850591  #Microsoft, HP Team Up For Social Impact Hacka...         MSFT   \n",
       "...                                                    ...          ...   \n",
       "4336440  In 2020 I may start Tweeting out positive news...         TSLA   \n",
       "4336441  Patiently Waiting for the no twitter sitter tw...         TSLA   \n",
       "4336442  I don't discriminate. I own both $aapl and $ms...         AAPL   \n",
       "4336443  I don't discriminate. I own both $aapl and $ms...         MSFT   \n",
       "4336444  $AAPL #patent 10,522,475 Vertical interconnect...         AAPL   \n",
       "\n",
       "        Company_name          Created_at  Source  \n",
       "1850587    Microsoft 2017-01-29 00:01:11  Ginger  \n",
       "1850588    Microsoft 2017-01-29 00:01:48  Ginger  \n",
       "1850589    Tesla Inc 2017-01-29 00:02:25  Ginger  \n",
       "1850590   Google Inc 2017-01-29 00:02:26  Ginger  \n",
       "1850591    Microsoft 2017-01-29 00:06:08  Ginger  \n",
       "...              ...                 ...     ...  \n",
       "4336440    Tesla Inc 2019-12-31 23:53:21  Ginger  \n",
       "4336441    Tesla Inc 2019-12-31 23:54:03  Ginger  \n",
       "4336442        apple 2019-12-31 23:55:37  Ginger  \n",
       "4336443    Microsoft 2019-12-31 23:55:37  Ginger  \n",
       "4336444        apple 2019-12-31 23:55:53  Ginger  \n",
       "\n",
       "[2485858 rows x 5 columns]"
      ]
     },
     "execution_count": 23,
     "metadata": {},
     "output_type": "execute_result"
    }
   ],
   "source": [
    "df[['Tweet', 'Stock_ticker', 'Company_name', 'Created_at', 'Source']]"
   ]
  },
  {
   "cell_type": "code",
   "execution_count": 24,
   "id": "843394b5-3019-4205-a389-94283ff4254e",
   "metadata": {},
   "outputs": [],
   "source": [
    "output_fp = '/home/ginger/code/gderiddershanghai/DVA_Team_173/data_full/raw/twitter_data/big_twitter/big_filtered.csv'"
   ]
  },
  {
   "cell_type": "code",
   "execution_count": 25,
   "id": "9e5c452a-8bcb-4d1f-afd5-ed5f82604d60",
   "metadata": {},
   "outputs": [],
   "source": [
    "df.to_csv(output_fp)"
   ]
  },
  {
   "cell_type": "code",
   "execution_count": null,
   "id": "363b129a-aa50-4095-8c90-8003553c6497",
   "metadata": {},
   "outputs": [],
   "source": []
  }
 ],
 "metadata": {
  "kernelspec": {
   "display_name": "Python 3 (ipykernel)",
   "language": "python",
   "name": "python3"
  },
  "language_info": {
   "codemirror_mode": {
    "name": "ipython",
    "version": 3
   },
   "file_extension": ".py",
   "mimetype": "text/x-python",
   "name": "python",
   "nbconvert_exporter": "python",
   "pygments_lexer": "ipython3",
   "version": "3.10.6"
  }
 },
 "nbformat": 4,
 "nbformat_minor": 5
}
