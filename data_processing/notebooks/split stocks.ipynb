{
 "cells": [
  {
   "cell_type": "markdown",
   "id": "0b36b8b2-02d3-4c5a-ae4d-96a3c1102d89",
   "metadata": {},
   "source": [
    "## Clean the tweets to get the Cleaned Tweets"
   ]
  },
  {
   "cell_type": "code",
   "execution_count": 1,
   "id": "0e915849-5c90-40eb-ae43-4a02aec80d8b",
   "metadata": {},
   "outputs": [],
   "source": [
    "import os\n",
    "import pandas as pd\n",
    "%load_ext autoreload\n",
    "%autoreload 2\n",
    "import seaborn as sns\n"
   ]
  },
  {
   "cell_type": "code",
   "execution_count": 2,
   "id": "1e3c2d95-759c-4586-b692-57620c410ff4",
   "metadata": {},
   "outputs": [
    {
     "name": "stdout",
     "output_type": "stream",
     "text": [
      "/home/ginger/code/gderiddershanghai/DVA_Team_173/notebooks/ginger\n"
     ]
    }
   ],
   "source": [
    "!pwd"
   ]
  },
  {
   "cell_type": "code",
   "execution_count": 3,
   "id": "679f902d-6df5-405c-9836-88ac74f16b2d",
   "metadata": {},
   "outputs": [
    {
     "name": "stdout",
     "output_type": "stream",
     "text": [
      "/home/ginger/code/gderiddershanghai/DVA_Team_173 this is the root\n"
     ]
    }
   ],
   "source": [
    "import sys\n",
    "from pathlib import Path\n",
    "project_root = Path.cwd().parents[1]  \n",
    "print(project_root, 'this is the root')\n",
    "src_path = project_root / \"src\"\n",
    "sys.path.append(str(src_path))\n",
    "from data_processing.common_words.tweet_cleaner import clean_tweets\n"
   ]
  },
  {
   "cell_type": "code",
   "execution_count": 4,
   "id": "81504f4a-ab13-4904-8631-7c1a0343485c",
   "metadata": {},
   "outputs": [
    {
     "data": {
      "text/plain": [
       "PosixPath('/home/ginger/code/gderiddershanghai/DVA_Team_173')"
      ]
     },
     "execution_count": 4,
     "metadata": {},
     "output_type": "execute_result"
    }
   ],
   "source": [
    "Path.cwd().parents[1]"
   ]
  },
  {
   "cell_type": "code",
   "execution_count": 5,
   "id": "cfdda296-c938-4bc7-8241-5da3af72a00f",
   "metadata": {},
   "outputs": [],
   "source": [
    "data_fp = '/home/ginger/code/gderiddershanghai/DVA_Team_173/data_full/processed/complete_labelled_dataset.csv'\n",
    "save_dir = '/home/ginger/code/gderiddershanghai/DVA_Team_173/data_full/cleaned_tweet_data'"
   ]
  },
  {
   "cell_type": "code",
   "execution_count": 6,
   "id": "1b710483-03fb-4723-9d39-2ec5c6736626",
   "metadata": {},
   "outputs": [],
   "source": [
    "df = pd.read_csv(data_fp)"
   ]
  },
  {
   "cell_type": "code",
   "execution_count": 7,
   "id": "94a421ff-48cb-4ded-a6bd-4630d9bcd179",
   "metadata": {},
   "outputs": [
    {
     "data": {
      "text/html": [
       "<div>\n",
       "<style scoped>\n",
       "    .dataframe tbody tr th:only-of-type {\n",
       "        vertical-align: middle;\n",
       "    }\n",
       "\n",
       "    .dataframe tbody tr th {\n",
       "        vertical-align: top;\n",
       "    }\n",
       "\n",
       "    .dataframe thead th {\n",
       "        text-align: right;\n",
       "    }\n",
       "</style>\n",
       "<table border=\"1\" class=\"dataframe\">\n",
       "  <thead>\n",
       "    <tr style=\"text-align: right;\">\n",
       "      <th></th>\n",
       "      <th>Created_at</th>\n",
       "      <th>Tweet</th>\n",
       "      <th>Stock_Ticker</th>\n",
       "      <th>Company_Name</th>\n",
       "      <th>Sector</th>\n",
       "      <th>Score</th>\n",
       "      <th>Source</th>\n",
       "      <th>Consolidated_Company_Name</th>\n",
       "      <th>Consolidated_Ticker</th>\n",
       "      <th>GICS_Sub_Industry</th>\n",
       "    </tr>\n",
       "  </thead>\n",
       "  <tbody>\n",
       "    <tr>\n",
       "      <th>0</th>\n",
       "      <td>2020-04-09 23:58:27+00:00</td>\n",
       "      <td>@Issaquahfunds Hedged our $MSFT position into ...</td>\n",
       "      <td>MSFT</td>\n",
       "      <td>Microsoft Corp.</td>\n",
       "      <td>Information Technology</td>\n",
       "      <td>-1.062240</td>\n",
       "      <td>IEEE Dataset https://ieee-dataport.org/open-ac...</td>\n",
       "      <td>Microsoft Corporation</td>\n",
       "      <td>MSFT</td>\n",
       "      <td>Systems Software</td>\n",
       "    </tr>\n",
       "    <tr>\n",
       "      <th>1</th>\n",
       "      <td>2020-04-09 23:57:27+00:00</td>\n",
       "      <td>Pfizer Shares Acquired by Ipswich Investment M...</td>\n",
       "      <td>PFE</td>\n",
       "      <td>Pfizer Inc.</td>\n",
       "      <td>Health Care</td>\n",
       "      <td>0.341477</td>\n",
       "      <td>IEEE Dataset https://ieee-dataport.org/open-ac...</td>\n",
       "      <td>Pfizer Inc.</td>\n",
       "      <td>PFE</td>\n",
       "      <td>Pharmaceuticals</td>\n",
       "    </tr>\n",
       "    <tr>\n",
       "      <th>2</th>\n",
       "      <td>2020-04-09 23:56:58+00:00</td>\n",
       "      <td>RT @TDANetwork: 📽️ #TheWatchList panel assesse...</td>\n",
       "      <td>AAPL</td>\n",
       "      <td>Apple Inc.</td>\n",
       "      <td>Information Technology</td>\n",
       "      <td>-0.530649</td>\n",
       "      <td>IEEE Dataset https://ieee-dataport.org/open-ac...</td>\n",
       "      <td>Apple Inc.</td>\n",
       "      <td>AAPL</td>\n",
       "      <td>Technology Hardware, Storage &amp; Peripherals</td>\n",
       "    </tr>\n",
       "    <tr>\n",
       "      <th>3</th>\n",
       "      <td>2020-04-09 23:56:25+00:00</td>\n",
       "      <td>I can't stand this #Facebook commercial that k...</td>\n",
       "      <td>FB</td>\n",
       "      <td>Facebook Inc.</td>\n",
       "      <td>Communication Services</td>\n",
       "      <td>-0.972969</td>\n",
       "      <td>IEEE Dataset https://ieee-dataport.org/open-ac...</td>\n",
       "      <td>Meta Platforms, Inc.</td>\n",
       "      <td>META</td>\n",
       "      <td>Interactive Media &amp; Services</td>\n",
       "    </tr>\n",
       "    <tr>\n",
       "      <th>4</th>\n",
       "      <td>2020-04-09 23:55:05+00:00</td>\n",
       "      <td>$AAPL 4h/1h\\n\\nSometimes these wedges break hi...</td>\n",
       "      <td>AAPL</td>\n",
       "      <td>Apple Inc.</td>\n",
       "      <td>Information Technology</td>\n",
       "      <td>0.561125</td>\n",
       "      <td>IEEE Dataset https://ieee-dataport.org/open-ac...</td>\n",
       "      <td>Apple Inc.</td>\n",
       "      <td>AAPL</td>\n",
       "      <td>Technology Hardware, Storage &amp; Peripherals</td>\n",
       "    </tr>\n",
       "  </tbody>\n",
       "</table>\n",
       "</div>"
      ],
      "text/plain": [
       "                  Created_at  \\\n",
       "0  2020-04-09 23:58:27+00:00   \n",
       "1  2020-04-09 23:57:27+00:00   \n",
       "2  2020-04-09 23:56:58+00:00   \n",
       "3  2020-04-09 23:56:25+00:00   \n",
       "4  2020-04-09 23:55:05+00:00   \n",
       "\n",
       "                                               Tweet Stock_Ticker  \\\n",
       "0  @Issaquahfunds Hedged our $MSFT position into ...         MSFT   \n",
       "1  Pfizer Shares Acquired by Ipswich Investment M...          PFE   \n",
       "2  RT @TDANetwork: 📽️ #TheWatchList panel assesse...         AAPL   \n",
       "3  I can't stand this #Facebook commercial that k...           FB   \n",
       "4  $AAPL 4h/1h\\n\\nSometimes these wedges break hi...         AAPL   \n",
       "\n",
       "      Company_Name                  Sector     Score  \\\n",
       "0  Microsoft Corp.  Information Technology -1.062240   \n",
       "1      Pfizer Inc.             Health Care  0.341477   \n",
       "2       Apple Inc.  Information Technology -0.530649   \n",
       "3    Facebook Inc.  Communication Services -0.972969   \n",
       "4       Apple Inc.  Information Technology  0.561125   \n",
       "\n",
       "                                              Source  \\\n",
       "0  IEEE Dataset https://ieee-dataport.org/open-ac...   \n",
       "1  IEEE Dataset https://ieee-dataport.org/open-ac...   \n",
       "2  IEEE Dataset https://ieee-dataport.org/open-ac...   \n",
       "3  IEEE Dataset https://ieee-dataport.org/open-ac...   \n",
       "4  IEEE Dataset https://ieee-dataport.org/open-ac...   \n",
       "\n",
       "  Consolidated_Company_Name Consolidated_Ticker  \\\n",
       "0     Microsoft Corporation                MSFT   \n",
       "1               Pfizer Inc.                 PFE   \n",
       "2                Apple Inc.                AAPL   \n",
       "3      Meta Platforms, Inc.                META   \n",
       "4                Apple Inc.                AAPL   \n",
       "\n",
       "                            GICS_Sub_Industry  \n",
       "0                            Systems Software  \n",
       "1                             Pharmaceuticals  \n",
       "2  Technology Hardware, Storage & Peripherals  \n",
       "3                Interactive Media & Services  \n",
       "4  Technology Hardware, Storage & Peripherals  "
      ]
     },
     "execution_count": 7,
     "metadata": {},
     "output_type": "execute_result"
    }
   ],
   "source": [
    "df.head()"
   ]
  },
  {
   "cell_type": "code",
   "execution_count": 8,
   "id": "36783587-0b2f-45a2-abdb-596fc956728a",
   "metadata": {},
   "outputs": [],
   "source": [
    "# import matplotlib.pyplot as plt\n",
    "# import seaborn as sns\n",
    "# import os\n",
    "\n",
    "# # Optional: create a folder to save plots\n",
    "# os.makedirs('histograms', exist_ok=True)\n",
    "\n",
    "# for company_name, df1 in df.groupby(by='Consolidated_Ticker'):\n",
    "#     plt.figure(figsize=(8, 6))  # create a new figure for each plot\n",
    "#     sns.histplot(df1['Score'], kde=True)  # add `kde=True` if you want a smoother curve\n",
    "#     plt.title(f\"Score Distribution - {company_name} {df1.shape[0]} - small shape {df1[df1['Created_at'] < '2018-12-31'].shape[0]}\")\n",
    "\n",
    "#     plt.xlabel('Score')\n",
    "#     plt.ylabel('Frequency')\n",
    "\n",
    "#     # Clean filename: remove special characters\n",
    "#     safe_name = \"\".join(c if c.isalnum() or c in \" _-\" else \"_\" for c in company_name)\n",
    "#     filename = f\"histograms/{safe_name}.png\"\n",
    "\n",
    "#     plt.savefig(filename, bbox_inches='tight')  # save the plot\n",
    "#     plt.close()  # close the figure to avoid overlapping plots\n",
    "    \n"
   ]
  },
  {
   "cell_type": "code",
   "execution_count": null,
   "id": "4d999e29-d46b-4a94-9511-f50aec944343",
   "metadata": {},
   "outputs": [],
   "source": []
  },
  {
   "cell_type": "code",
   "execution_count": null,
   "id": "4c81519b-e214-41ec-bcde-c8cbd585d489",
   "metadata": {},
   "outputs": [],
   "source": []
  },
  {
   "cell_type": "code",
   "execution_count": 9,
   "id": "36a1f930-c1dd-40b3-a7ff-3d820a22827c",
   "metadata": {},
   "outputs": [
    {
     "name": "stderr",
     "output_type": "stream",
     "text": [
      "[nltk_data] Error loading stopwords: <urlopen error [Errno 104]\n",
      "[nltk_data]     Connection reset by peer>\n"
     ]
    },
    {
     "name": "stdout",
     "output_type": "stream",
     "text": [
      "Processing 2539444 tweets...\n"
     ]
    }
   ],
   "source": [
    "cleaned_df = clean_tweets(df)"
   ]
  },
  {
   "cell_type": "code",
   "execution_count": 10,
   "id": "f3add083-db28-4808-ba76-9f8b609d283b",
   "metadata": {},
   "outputs": [
    {
     "data": {
      "text/html": [
       "<div>\n",
       "<style scoped>\n",
       "    .dataframe tbody tr th:only-of-type {\n",
       "        vertical-align: middle;\n",
       "    }\n",
       "\n",
       "    .dataframe tbody tr th {\n",
       "        vertical-align: top;\n",
       "    }\n",
       "\n",
       "    .dataframe thead th {\n",
       "        text-align: right;\n",
       "    }\n",
       "</style>\n",
       "<table border=\"1\" class=\"dataframe\">\n",
       "  <thead>\n",
       "    <tr style=\"text-align: right;\">\n",
       "      <th></th>\n",
       "      <th>Created_at</th>\n",
       "      <th>Tweet</th>\n",
       "      <th>Stock_Ticker</th>\n",
       "      <th>Company_Name</th>\n",
       "      <th>Sector</th>\n",
       "      <th>Score</th>\n",
       "      <th>Source</th>\n",
       "      <th>Consolidated_Company_Name</th>\n",
       "      <th>Consolidated_Ticker</th>\n",
       "      <th>GICS_Sub_Industry</th>\n",
       "      <th>cleaned_tweet</th>\n",
       "    </tr>\n",
       "  </thead>\n",
       "  <tbody>\n",
       "    <tr>\n",
       "      <th>0</th>\n",
       "      <td>2020-04-09 23:58:27+00:00</td>\n",
       "      <td>@Issaquahfunds Hedged our $MSFT position into ...</td>\n",
       "      <td>MSFT</td>\n",
       "      <td>Microsoft Corp.</td>\n",
       "      <td>Information Technology</td>\n",
       "      <td>-1.062240</td>\n",
       "      <td>IEEE Dataset https://ieee-dataport.org/open-ac...</td>\n",
       "      <td>Microsoft Corporation</td>\n",
       "      <td>MSFT</td>\n",
       "      <td>Systems Software</td>\n",
       "      <td>hedged position close seemed lazy past</td>\n",
       "    </tr>\n",
       "    <tr>\n",
       "      <th>1</th>\n",
       "      <td>2020-04-09 23:57:27+00:00</td>\n",
       "      <td>Pfizer Shares Acquired by Ipswich Investment M...</td>\n",
       "      <td>PFE</td>\n",
       "      <td>Pfizer Inc.</td>\n",
       "      <td>Health Care</td>\n",
       "      <td>0.341477</td>\n",
       "      <td>IEEE Dataset https://ieee-dataport.org/open-ac...</td>\n",
       "      <td>Pfizer Inc.</td>\n",
       "      <td>PFE</td>\n",
       "      <td>Pharmaceuticals</td>\n",
       "      <td>acquired ipswich management</td>\n",
       "    </tr>\n",
       "    <tr>\n",
       "      <th>2</th>\n",
       "      <td>2020-04-09 23:56:58+00:00</td>\n",
       "      <td>RT @TDANetwork: 📽️ #TheWatchList panel assesse...</td>\n",
       "      <td>AAPL</td>\n",
       "      <td>Apple Inc.</td>\n",
       "      <td>Information Technology</td>\n",
       "      <td>-0.530649</td>\n",
       "      <td>IEEE Dataset https://ieee-dataport.org/open-ac...</td>\n",
       "      <td>Apple Inc.</td>\n",
       "      <td>AAPL</td>\n",
       "      <td>Technology Hardware, Storage &amp; Peripherals</td>\n",
       "      <td>thewatchlist panel assesses big questions face</td>\n",
       "    </tr>\n",
       "    <tr>\n",
       "      <th>3</th>\n",
       "      <td>2020-04-09 23:56:25+00:00</td>\n",
       "      <td>I can't stand this #Facebook commercial that k...</td>\n",
       "      <td>FB</td>\n",
       "      <td>Facebook Inc.</td>\n",
       "      <td>Communication Services</td>\n",
       "      <td>-0.972969</td>\n",
       "      <td>IEEE Dataset https://ieee-dataport.org/open-ac...</td>\n",
       "      <td>Meta Platforms, Inc.</td>\n",
       "      <td>META</td>\n",
       "      <td>Interactive Media &amp; Services</td>\n",
       "      <td>stand facebook commercial keeps replaying app ...</td>\n",
       "    </tr>\n",
       "    <tr>\n",
       "      <th>4</th>\n",
       "      <td>2020-04-09 23:55:05+00:00</td>\n",
       "      <td>$AAPL 4h/1h\\n\\nSometimes these wedges break hi...</td>\n",
       "      <td>AAPL</td>\n",
       "      <td>Apple Inc.</td>\n",
       "      <td>Information Technology</td>\n",
       "      <td>0.561125</td>\n",
       "      <td>IEEE Dataset https://ieee-dataport.org/open-ac...</td>\n",
       "      <td>Apple Inc.</td>\n",
       "      <td>AAPL</td>\n",
       "      <td>Technology Hardware, Storage &amp; Peripherals</td>\n",
       "      <td>sometimes wedges break higher rarely bear fact...</td>\n",
       "    </tr>\n",
       "  </tbody>\n",
       "</table>\n",
       "</div>"
      ],
      "text/plain": [
       "                  Created_at  \\\n",
       "0  2020-04-09 23:58:27+00:00   \n",
       "1  2020-04-09 23:57:27+00:00   \n",
       "2  2020-04-09 23:56:58+00:00   \n",
       "3  2020-04-09 23:56:25+00:00   \n",
       "4  2020-04-09 23:55:05+00:00   \n",
       "\n",
       "                                               Tweet Stock_Ticker  \\\n",
       "0  @Issaquahfunds Hedged our $MSFT position into ...         MSFT   \n",
       "1  Pfizer Shares Acquired by Ipswich Investment M...          PFE   \n",
       "2  RT @TDANetwork: 📽️ #TheWatchList panel assesse...         AAPL   \n",
       "3  I can't stand this #Facebook commercial that k...           FB   \n",
       "4  $AAPL 4h/1h\\n\\nSometimes these wedges break hi...         AAPL   \n",
       "\n",
       "      Company_Name                  Sector     Score  \\\n",
       "0  Microsoft Corp.  Information Technology -1.062240   \n",
       "1      Pfizer Inc.             Health Care  0.341477   \n",
       "2       Apple Inc.  Information Technology -0.530649   \n",
       "3    Facebook Inc.  Communication Services -0.972969   \n",
       "4       Apple Inc.  Information Technology  0.561125   \n",
       "\n",
       "                                              Source  \\\n",
       "0  IEEE Dataset https://ieee-dataport.org/open-ac...   \n",
       "1  IEEE Dataset https://ieee-dataport.org/open-ac...   \n",
       "2  IEEE Dataset https://ieee-dataport.org/open-ac...   \n",
       "3  IEEE Dataset https://ieee-dataport.org/open-ac...   \n",
       "4  IEEE Dataset https://ieee-dataport.org/open-ac...   \n",
       "\n",
       "  Consolidated_Company_Name Consolidated_Ticker  \\\n",
       "0     Microsoft Corporation                MSFT   \n",
       "1               Pfizer Inc.                 PFE   \n",
       "2                Apple Inc.                AAPL   \n",
       "3      Meta Platforms, Inc.                META   \n",
       "4                Apple Inc.                AAPL   \n",
       "\n",
       "                            GICS_Sub_Industry  \\\n",
       "0                            Systems Software   \n",
       "1                             Pharmaceuticals   \n",
       "2  Technology Hardware, Storage & Peripherals   \n",
       "3                Interactive Media & Services   \n",
       "4  Technology Hardware, Storage & Peripherals   \n",
       "\n",
       "                                       cleaned_tweet  \n",
       "0             hedged position close seemed lazy past  \n",
       "1                        acquired ipswich management  \n",
       "2     thewatchlist panel assesses big questions face  \n",
       "3  stand facebook commercial keeps replaying app ...  \n",
       "4  sometimes wedges break higher rarely bear fact...  "
      ]
     },
     "execution_count": 10,
     "metadata": {},
     "output_type": "execute_result"
    }
   ],
   "source": [
    "cleaned_df.head()"
   ]
  },
  {
   "cell_type": "code",
   "execution_count": 11,
   "id": "82bd7d4f-6b27-49a7-acd6-885476d98934",
   "metadata": {},
   "outputs": [],
   "source": [
    "# cleaned_df.head()"
   ]
  },
  {
   "cell_type": "markdown",
   "id": "4131cef8-80e6-48cd-b7ea-ac9dd38ec699",
   "metadata": {},
   "source": [
    "# Checking for missing tickers"
   ]
  },
  {
   "cell_type": "code",
   "execution_count": 12,
   "id": "e4663521-b689-4deb-ae93-d78f1c1542e5",
   "metadata": {},
   "outputs": [],
   "source": [
    "tickers = [\n",
    "    \"TSLA\", \"AAPL\", \"AMZN\", \"GOOGL\", \"MSFT\", \"F\", \"DIS\", \"META\", \"NKE\", \"NFLX\",\n",
    "    \"INTC\", \"JPM\", \"PG\", \"T\", \"SBUX\", \"WMT\", \"PYPL\", \"BAC\", \"PFE\", \"V\",\n",
    "    \"XOM\", \"JNJ\", \"AMD\", \"PEP\", \"MCD\", \"VZ\", \"KO\", \"BA\", \"MA\", \"MRK\",\n",
    "    \"UNH\", \"HD\", \"CMCSA\", \"IBM\", \"COST\", \"CVX\", \"ORCL\", \"UPS\", \"CSCO\", \"KR\"\n",
    "]"
   ]
  },
  {
   "cell_type": "code",
   "execution_count": 13,
   "id": "920ccded-c896-42c7-ad3c-e61680da13d2",
   "metadata": {},
   "outputs": [],
   "source": [
    "companies = list(set(cleaned_df['Consolidated_Company_Name']))\n",
    "# companies"
   ]
  },
  {
   "cell_type": "code",
   "execution_count": 14,
   "id": "a35c227a-c791-4367-ac4e-0ae12209c570",
   "metadata": {},
   "outputs": [],
   "source": [
    "df_tickers = list(set(cleaned_df['Consolidated_Ticker']))\n",
    "# df_tickers"
   ]
  },
  {
   "cell_type": "code",
   "execution_count": 15,
   "id": "cb653001-b67c-4fc7-a5f6-0cc0bc952da8",
   "metadata": {},
   "outputs": [],
   "source": [
    "# [ticker for ticker in tickers if ticker not in df_tickers]"
   ]
  },
  {
   "cell_type": "code",
   "execution_count": 16,
   "id": "54b7f498-7035-4ce3-a1c4-34df6804ddcb",
   "metadata": {},
   "outputs": [],
   "source": [
    "# [ticker for ticker in df_tickers if ticker not in tickers]"
   ]
  },
  {
   "cell_type": "markdown",
   "id": "2a6549fa-c38f-4d88-9f7b-512d015e7afa",
   "metadata": {},
   "source": [
    "## Choose Final Columns"
   ]
  },
  {
   "cell_type": "code",
   "execution_count": 17,
   "id": "555d9ce4-2d71-4f05-b12e-ac6e9940c9c2",
   "metadata": {},
   "outputs": [
    {
     "data": {
      "text/html": [
       "<div>\n",
       "<style scoped>\n",
       "    .dataframe tbody tr th:only-of-type {\n",
       "        vertical-align: middle;\n",
       "    }\n",
       "\n",
       "    .dataframe tbody tr th {\n",
       "        vertical-align: top;\n",
       "    }\n",
       "\n",
       "    .dataframe thead th {\n",
       "        text-align: right;\n",
       "    }\n",
       "</style>\n",
       "<table border=\"1\" class=\"dataframe\">\n",
       "  <thead>\n",
       "    <tr style=\"text-align: right;\">\n",
       "      <th></th>\n",
       "      <th>Created_at</th>\n",
       "      <th>Tweet</th>\n",
       "      <th>Stock_Ticker</th>\n",
       "      <th>Company_Name</th>\n",
       "      <th>Sector</th>\n",
       "      <th>Score</th>\n",
       "      <th>Source</th>\n",
       "      <th>Consolidated_Company_Name</th>\n",
       "      <th>Consolidated_Ticker</th>\n",
       "      <th>GICS_Sub_Industry</th>\n",
       "      <th>cleaned_tweet</th>\n",
       "    </tr>\n",
       "  </thead>\n",
       "  <tbody>\n",
       "    <tr>\n",
       "      <th>0</th>\n",
       "      <td>2020-04-09 23:58:27+00:00</td>\n",
       "      <td>@Issaquahfunds Hedged our $MSFT position into ...</td>\n",
       "      <td>MSFT</td>\n",
       "      <td>Microsoft Corp.</td>\n",
       "      <td>Information Technology</td>\n",
       "      <td>-1.062240</td>\n",
       "      <td>IEEE Dataset https://ieee-dataport.org/open-ac...</td>\n",
       "      <td>Microsoft Corporation</td>\n",
       "      <td>MSFT</td>\n",
       "      <td>Systems Software</td>\n",
       "      <td>hedged position close seemed lazy past</td>\n",
       "    </tr>\n",
       "    <tr>\n",
       "      <th>1</th>\n",
       "      <td>2020-04-09 23:57:27+00:00</td>\n",
       "      <td>Pfizer Shares Acquired by Ipswich Investment M...</td>\n",
       "      <td>PFE</td>\n",
       "      <td>Pfizer Inc.</td>\n",
       "      <td>Health Care</td>\n",
       "      <td>0.341477</td>\n",
       "      <td>IEEE Dataset https://ieee-dataport.org/open-ac...</td>\n",
       "      <td>Pfizer Inc.</td>\n",
       "      <td>PFE</td>\n",
       "      <td>Pharmaceuticals</td>\n",
       "      <td>acquired ipswich management</td>\n",
       "    </tr>\n",
       "  </tbody>\n",
       "</table>\n",
       "</div>"
      ],
      "text/plain": [
       "                  Created_at  \\\n",
       "0  2020-04-09 23:58:27+00:00   \n",
       "1  2020-04-09 23:57:27+00:00   \n",
       "\n",
       "                                               Tweet Stock_Ticker  \\\n",
       "0  @Issaquahfunds Hedged our $MSFT position into ...         MSFT   \n",
       "1  Pfizer Shares Acquired by Ipswich Investment M...          PFE   \n",
       "\n",
       "      Company_Name                  Sector     Score  \\\n",
       "0  Microsoft Corp.  Information Technology -1.062240   \n",
       "1      Pfizer Inc.             Health Care  0.341477   \n",
       "\n",
       "                                              Source  \\\n",
       "0  IEEE Dataset https://ieee-dataport.org/open-ac...   \n",
       "1  IEEE Dataset https://ieee-dataport.org/open-ac...   \n",
       "\n",
       "  Consolidated_Company_Name Consolidated_Ticker GICS_Sub_Industry  \\\n",
       "0     Microsoft Corporation                MSFT  Systems Software   \n",
       "1               Pfizer Inc.                 PFE   Pharmaceuticals   \n",
       "\n",
       "                            cleaned_tweet  \n",
       "0  hedged position close seemed lazy past  \n",
       "1             acquired ipswich management  "
      ]
     },
     "execution_count": 17,
     "metadata": {},
     "output_type": "execute_result"
    }
   ],
   "source": [
    "cleaned_df.head(2)"
   ]
  },
  {
   "cell_type": "code",
   "execution_count": 18,
   "id": "7333775c-0abd-4ac4-9d4b-692af289e6d7",
   "metadata": {},
   "outputs": [
    {
     "data": {
      "text/plain": [
       "Index(['Created_at', 'Tweet', 'Stock_Ticker', 'Company_Name', 'Sector',\n",
       "       'Score', 'Source', 'Consolidated_Company_Name', 'Consolidated_Ticker',\n",
       "       'GICS_Sub_Industry', 'cleaned_tweet'],\n",
       "      dtype='object')"
      ]
     },
     "execution_count": 18,
     "metadata": {},
     "output_type": "execute_result"
    }
   ],
   "source": [
    "cleaned_df.columns"
   ]
  },
  {
   "cell_type": "code",
   "execution_count": 19,
   "id": "8df9da02-796c-4df2-9a36-4dc55832f4a6",
   "metadata": {},
   "outputs": [],
   "source": [
    "target_cols = ['Created_at','cleaned_tweet','Score', 'Source', 'Consolidated_Ticker', 'Consolidated_Company_Name', 'Sector','GICS_Sub_Industry']\n",
    "renamed_cols = ['Created_at','Tweet_Words','Score', 'Source', 'Ticker', 'Company_Name', 'Sector','GICS_Sub_Industry']"
   ]
  },
  {
   "cell_type": "code",
   "execution_count": 20,
   "id": "f23e1248-e242-446d-ab95-8efa686297a2",
   "metadata": {},
   "outputs": [],
   "source": [
    "target_cols = ['Created_at','cleaned_tweet','Score', 'Consolidated_Ticker'] #, 'Source', 'Consolidated_Ticker', 'Consolidated_Company_Name', 'Sector','GICS_Sub_Industry']\n",
    "renamed_cols = ['Created_at','Tweet_Words','Score', 'Ticker'] #, 'Source', 'Ticker', 'Company_Name', 'Sector','GICS_Sub_Industry']"
   ]
  },
  {
   "cell_type": "code",
   "execution_count": 21,
   "id": "256eadf3-2673-4925-9150-b34633298600",
   "metadata": {},
   "outputs": [],
   "source": [
    "filtered_df  = cleaned_df[target_cols]"
   ]
  },
  {
   "cell_type": "code",
   "execution_count": 22,
   "id": "96d14e45-3dae-4e91-b1a1-3eeb03c5879a",
   "metadata": {},
   "outputs": [],
   "source": [
    "filtered_df.columns = renamed_cols"
   ]
  },
  {
   "cell_type": "code",
   "execution_count": 23,
   "id": "5259202c-bfd4-48f3-85ac-81b4e03f7980",
   "metadata": {},
   "outputs": [
    {
     "data": {
      "text/html": [
       "<div>\n",
       "<style scoped>\n",
       "    .dataframe tbody tr th:only-of-type {\n",
       "        vertical-align: middle;\n",
       "    }\n",
       "\n",
       "    .dataframe tbody tr th {\n",
       "        vertical-align: top;\n",
       "    }\n",
       "\n",
       "    .dataframe thead th {\n",
       "        text-align: right;\n",
       "    }\n",
       "</style>\n",
       "<table border=\"1\" class=\"dataframe\">\n",
       "  <thead>\n",
       "    <tr style=\"text-align: right;\">\n",
       "      <th></th>\n",
       "      <th>Created_at</th>\n",
       "      <th>Tweet_Words</th>\n",
       "      <th>Score</th>\n",
       "      <th>Ticker</th>\n",
       "    </tr>\n",
       "  </thead>\n",
       "  <tbody>\n",
       "    <tr>\n",
       "      <th>0</th>\n",
       "      <td>2020-04-09 23:58:27+00:00</td>\n",
       "      <td>hedged position close seemed lazy past</td>\n",
       "      <td>-1.06224</td>\n",
       "      <td>MSFT</td>\n",
       "    </tr>\n",
       "  </tbody>\n",
       "</table>\n",
       "</div>"
      ],
      "text/plain": [
       "                  Created_at                             Tweet_Words    Score  \\\n",
       "0  2020-04-09 23:58:27+00:00  hedged position close seemed lazy past -1.06224   \n",
       "\n",
       "  Ticker  \n",
       "0   MSFT  "
      ]
     },
     "execution_count": 23,
     "metadata": {},
     "output_type": "execute_result"
    }
   ],
   "source": [
    "filtered_df.head(1)"
   ]
  },
  {
   "cell_type": "markdown",
   "id": "578e4c4b-c58c-47a3-9cdf-bedd810e01c3",
   "metadata": {},
   "source": [
    "## Dropped Kennys Dataset"
   ]
  },
  {
   "cell_type": "code",
   "execution_count": 24,
   "id": "a7d9ab4b-3ef2-408c-b9b7-6e06a46cfe9a",
   "metadata": {},
   "outputs": [],
   "source": [
    "# filtered_df['Source'].value_counts()"
   ]
  },
  {
   "cell_type": "code",
   "execution_count": 25,
   "id": "32e8a78e-0a18-4076-a5c7-841f2de2c0f1",
   "metadata": {},
   "outputs": [],
   "source": [
    "# no_kenny_df = filtered_df[filtered_df['Source']!='Kenny https://www.kaggle.com/datasets/equinxx/stock-tweets-for-sentiment-analysis-and-prediction']"
   ]
  },
  {
   "cell_type": "code",
   "execution_count": 26,
   "id": "cda6750b-b5ed-468b-bd43-850b67fff2c4",
   "metadata": {},
   "outputs": [
    {
     "data": {
      "text/plain": [
       "(2539444, 4)"
      ]
     },
     "execution_count": 26,
     "metadata": {},
     "output_type": "execute_result"
    }
   ],
   "source": [
    "filtered_df.shape"
   ]
  },
  {
   "cell_type": "code",
   "execution_count": 27,
   "id": "9721b807-bb4d-4be5-b2b0-5e74d69e8ec4",
   "metadata": {},
   "outputs": [],
   "source": [
    "mask = (filtered_df['Created_at']>'2017-01-01')&(filtered_df['Created_at']<'2020-09-01')\n",
    "no_kenny_df = filtered_df[mask]"
   ]
  },
  {
   "cell_type": "code",
   "execution_count": 28,
   "id": "caa6d336-b00e-49eb-b6d5-2a0e9e7e2719",
   "metadata": {},
   "outputs": [
    {
     "data": {
      "text/plain": [
       "(2513825, 4)"
      ]
     },
     "execution_count": 28,
     "metadata": {},
     "output_type": "execute_result"
    }
   ],
   "source": [
    "no_kenny_df.shape"
   ]
  },
  {
   "cell_type": "markdown",
   "id": "1ed7f0b5-e2c7-4ea0-8117-3344cfe545fe",
   "metadata": {},
   "source": [
    "## Save the Tweets in separate csv files"
   ]
  },
  {
   "cell_type": "code",
   "execution_count": 29,
   "id": "d1e244d8-f155-42e9-adae-d6d7dce5488e",
   "metadata": {},
   "outputs": [],
   "source": [
    "save_dir = '/home/ginger/code/gderiddershanghai/DVA_Team_173/data_full/cleaned_tweet_data/full'\n",
    "os.makedirs(save_dir, exist_ok=True)"
   ]
  },
  {
   "cell_type": "code",
   "execution_count": 30,
   "id": "e04b587a-3c76-4085-8a33-fa841d68d9e8",
   "metadata": {},
   "outputs": [
    {
     "name": "stdout",
     "output_type": "stream",
     "text": [
      "Saved AAPL.csv with 596093 rows.\n",
      "Saved AMD.csv with 464 rows.\n",
      "Saved AMZN.csv with 451969 rows.\n",
      "Saved BA.csv with 1552 rows.\n",
      "Saved BAC.csv with 3257 rows.\n",
      "Saved CMCSA.csv with 1568 rows.\n",
      "Saved COST.csv with 792 rows.\n",
      "Saved CSCO.csv with 922 rows.\n",
      "Saved CVX.csv with 1134 rows.\n",
      "Saved DIS.csv with 21345 rows.\n",
      "Saved F.csv with 28776 rows.\n",
      "Saved GOOGL.csv with 281413 rows.\n",
      "Saved HD.csv with 1632 rows.\n",
      "Saved IBM.csv with 1437 rows.\n",
      "Saved INTC.csv with 6062 rows.\n",
      "Saved JNJ.csv with 2820 rows.\n",
      "Saved JPM.csv with 6109 rows.\n",
      "Saved KO.csv with 1732 rows.\n",
      "Saved KR.csv with 677 rows.\n",
      "Saved MA.csv with 1891 rows.\n",
      "Saved MCD.csv with 2501 rows.\n",
      "Saved META.csv with 18118 rows.\n",
      "Saved MRK.csv with 1878 rows.\n",
      "Saved MSFT.csv with 194418 rows.\n",
      "Saved NFLX.csv with 12883 rows.\n",
      "Saved NKE.csv with 17565 rows.\n",
      "Saved ORCL.csv with 1070 rows.\n",
      "Saved PEP.csv with 2648 rows.\n",
      "Saved PFE.csv with 2959 rows.\n",
      "Saved PG.csv with 1221 rows.\n",
      "Saved PYPL.csv with 2716 rows.\n",
      "Saved SBUX.csv with 4319 rows.\n",
      "Saved T.csv with 4926 rows.\n",
      "Saved TSLA.csv with 820418 rows.\n",
      "Saved UNH.csv with 1784 rows.\n",
      "Saved UPS.csv with 1042 rows.\n",
      "Saved V.csv with 2920 rows.\n",
      "Saved VZ.csv with 2153 rows.\n",
      "Saved WMT.csv with 3800 rows.\n",
      "Saved XOM.csv with 2841 rows.\n",
      "40\n"
     ]
    }
   ],
   "source": [
    "ticker_col = \"Ticker\"  \n",
    "count=0\n",
    "for ticker, group_df in no_kenny_df.groupby(ticker_col):\n",
    "    count+=1\n",
    "    group_df = group_df.reset_index(drop=True) \n",
    "    save_path = os.path.join(save_dir, f\"{ticker}.csv\")\n",
    "    # print('path', save_path)\n",
    "    # print(group_df.head(1))\n",
    "    group_df = group_df[['Created_at','Tweet_Words','Score']]\n",
    "    group_df.to_csv(save_path, index=False)\n",
    "    print(f\"Saved {ticker}.csv with {len(group_df)} rows.\")\n",
    "print(count)"
   ]
  },
  {
   "cell_type": "code",
   "execution_count": 31,
   "id": "e86c0ea5-17c7-4eaf-9ee5-a583309759d2",
   "metadata": {},
   "outputs": [],
   "source": [
    "save_dir = '/home/ginger/code/gderiddershanghai/DVA_Team_173/data_full/cleaned_tweet_data/non_neutral'\n",
    "os.makedirs(save_dir, exist_ok=True)"
   ]
  },
  {
   "cell_type": "code",
   "execution_count": 32,
   "id": "0554c098-34a9-451e-bacd-257f92792e00",
   "metadata": {},
   "outputs": [
    {
     "name": "stdout",
     "output_type": "stream",
     "text": [
      "Saved AAPL.csv with 428736 rows.\n",
      "Saved AMD.csv with 464 rows.\n",
      "Saved AMZN.csv with 333956 rows.\n",
      "Saved BA.csv with 1552 rows.\n",
      "Saved BAC.csv with 2540 rows.\n",
      "Saved CMCSA.csv with 1568 rows.\n",
      "Saved COST.csv with 792 rows.\n",
      "Saved CSCO.csv with 922 rows.\n",
      "Saved CVX.csv with 1134 rows.\n",
      "Saved DIS.csv with 21345 rows.\n",
      "Saved F.csv with 28776 rows.\n",
      "Saved GOOGL.csv with 195176 rows.\n",
      "Saved HD.csv with 1632 rows.\n",
      "Saved IBM.csv with 1437 rows.\n",
      "Saved INTC.csv with 6062 rows.\n",
      "Saved JNJ.csv with 2820 rows.\n",
      "Saved JPM.csv with 6109 rows.\n",
      "Saved KO.csv with 1732 rows.\n",
      "Saved KR.csv with 677 rows.\n",
      "Saved MA.csv with 1891 rows.\n",
      "Saved MCD.csv with 2501 rows.\n",
      "Saved META.csv with 14290 rows.\n",
      "Saved MRK.csv with 1878 rows.\n",
      "Saved MSFT.csv with 126125 rows.\n",
      "Saved NFLX.csv with 12883 rows.\n",
      "Saved NKE.csv with 17565 rows.\n",
      "Saved ORCL.csv with 1070 rows.\n",
      "Saved PEP.csv with 2648 rows.\n",
      "Saved PFE.csv with 2959 rows.\n",
      "Saved PG.csv with 1221 rows.\n",
      "Saved PYPL.csv with 2716 rows.\n",
      "Saved SBUX.csv with 4319 rows.\n",
      "Saved T.csv with 4926 rows.\n",
      "Saved TSLA.csv with 639314 rows.\n",
      "Saved UNH.csv with 1784 rows.\n",
      "Saved UPS.csv with 1042 rows.\n",
      "Saved V.csv with 2920 rows.\n",
      "Saved VZ.csv with 2153 rows.\n",
      "Saved WMT.csv with 3800 rows.\n",
      "Saved XOM.csv with 2841 rows.\n",
      "40\n"
     ]
    }
   ],
   "source": [
    "import os\n",
    "\n",
    "ticker_col = \"Ticker\"  \n",
    "count = 0\n",
    "\n",
    "# Define the list of tickers for which filtering should be applied\n",
    "filter_tickers = [\"AAPL\", \"AMZN\", \"BAC\", \"GOOGL\", \"META\", \"MSFT\", \"TSLA\"]\n",
    "\n",
    "for ticker, group_df in no_kenny_df.groupby(ticker_col):\n",
    "    count += 1\n",
    "    group_df = group_df.reset_index(drop=True) \n",
    "    \n",
    "    # Apply filtering only for specified tickers\n",
    "    if ticker in filter_tickers:\n",
    "        group_df = group_df[(group_df['Score'] < -0.2) | (group_df['Score'] > 0.2)]\n",
    "    \n",
    "    save_path = os.path.join(save_dir, f\"{ticker}.csv\")\n",
    "    group_df = group_df[['Created_at', 'Tweet_Words', 'Score']]\n",
    "    group_df.to_csv(save_path, index=False)\n",
    "    print(f\"Saved {ticker}.csv with {len(group_df)} rows.\")\n",
    "\n",
    "print(count)\n"
   ]
  },
  {
   "cell_type": "code",
   "execution_count": 33,
   "id": "9539202b-fd68-4b07-9bee-b772fd9a1485",
   "metadata": {},
   "outputs": [],
   "source": [
    "save_dir = '/home/ginger/code/gderiddershanghai/DVA_Team_173/data_full/cleaned_tweet_data/small1718'\n",
    "os.makedirs(save_dir, exist_ok=True)"
   ]
  },
  {
   "cell_type": "code",
   "execution_count": 34,
   "id": "4ab3b66b-478b-4967-b00d-ba80b958f75e",
   "metadata": {},
   "outputs": [
    {
     "name": "stdout",
     "output_type": "stream",
     "text": [
      "Saved AAPL.csv (score filtered) with 428736 rows\n",
      "Skipped AMD - only 0.0% rows remaining\n",
      "Saved AMZN.csv (score filtered) with 333956 rows\n",
      "Saved BA.csv (date filtered) with 939 rows\n",
      "Saved BAC.csv (score filtered) with 2540 rows\n",
      "Skipped CMCSA - only 37.9% rows remaining\n",
      "Saved COST.csv (date filtered) with 636 rows\n",
      "Saved CSCO.csv (date filtered) with 769 rows\n",
      "Skipped CVX - only 19.1% rows remaining\n",
      "Skipped DIS - only 43.6% rows remaining\n",
      "Saved F.csv (date filtered) with 28664 rows\n",
      "Saved GOOGL.csv (score filtered) with 195176 rows\n",
      "Skipped HD - only 2.0% rows remaining\n",
      "Saved IBM.csv (date filtered) with 1294 rows\n",
      "Saved INTC.csv (date filtered) with 3209 rows\n",
      "Skipped JNJ - only 0.0% rows remaining\n",
      "Skipped JPM - only 4.0% rows remaining\n",
      "Skipped KO - only 6.9% rows remaining\n",
      "Saved KR.csv (date filtered) with 598 rows\n",
      "Skipped MA - only 11.2% rows remaining\n",
      "Saved MCD.csv (date filtered) with 2391 rows\n",
      "Saved META.csv (score filtered) with 14290 rows\n",
      "Skipped MRK - only 0.0% rows remaining\n",
      "Saved MSFT.csv (score filtered) with 126125 rows\n",
      "Saved NFLX.csv (date filtered) with 12309 rows\n",
      "Saved NKE.csv (date filtered) with 17463 rows\n",
      "Saved ORCL.csv (date filtered) with 923 rows\n",
      "Skipped PEP - only 32.4% rows remaining\n",
      "Skipped PFE - only 5.3% rows remaining\n",
      "Skipped PG - only 2.1% rows remaining\n",
      "Saved PYPL.csv (date filtered) with 2629 rows\n",
      "Saved SBUX.csv (date filtered) with 4158 rows\n",
      "Skipped T - only 6.6% rows remaining\n",
      "Saved TSLA.csv (score filtered) with 639314 rows\n",
      "Skipped UNH - only 0.0% rows remaining\n",
      "Saved UPS.csv (date filtered) with 979 rows\n",
      "Skipped V - only 39.0% rows remaining\n",
      "Skipped VZ - only 41.0% rows remaining\n",
      "Saved WMT.csv (date filtered) with 3666 rows\n",
      "Skipped XOM - only 10.5% rows remaining\n",
      "\n",
      "Total files saved: 22\n"
     ]
    }
   ],
   "source": [
    "import os\n",
    "import pandas as pd\n",
    "\n",
    "ticker_col = \"Ticker\"\n",
    "filter_tickers = [\"AAPL\", \"AMZN\", \"BAC\", \"GOOGL\", \"META\", \"MSFT\", \"TSLA\"]\n",
    "count = 0\n",
    "\n",
    "for ticker, group_df in no_kenny_df.groupby(ticker_col):\n",
    "    original_length = len(group_df)\n",
    "    group_df = group_df.reset_index(drop=True)\n",
    "    \n",
    "    # Apply appropriate filter based on ticker\n",
    "    if ticker in filter_tickers:\n",
    "        filtered_df = group_df[(group_df['Score'] < -0.2) | (group_df['Score'] > 0.2)]\n",
    "        filter_type = \"score\"\n",
    "    else:\n",
    "        filtered_df = group_df.copy()\n",
    "        filtered_df['Created_at'] = pd.to_datetime(filtered_df['Created_at'])\n",
    "        filtered_df = filtered_df[filtered_df['Created_at'].dt.year.isin([2017, 2018])]\n",
    "        filter_type = \"date\"\n",
    "    \n",
    "    # Check retention threshold and save\n",
    "    if len(filtered_df) >= 0.5 * original_length:\n",
    "        save_path = os.path.join(save_dir, f\"{ticker}.csv\")\n",
    "        filtered_df[['Created_at', 'Tweet_Words', 'Score']].to_csv(save_path, index=False)\n",
    "        print(f\"Saved {ticker}.csv ({filter_type} filtered) with {len(filtered_df)} rows\")\n",
    "        count += 1\n",
    "    else:\n",
    "        print(f\"Skipped {ticker} - only {len(filtered_df)/original_length:.1%} rows remaining\")\n",
    "\n",
    "print(f\"\\nTotal files saved: {count}\")\n"
   ]
  },
  {
   "cell_type": "code",
   "execution_count": null,
   "id": "7c16efb5-9e6a-45b7-9998-d4e19e71509b",
   "metadata": {},
   "outputs": [],
   "source": []
  },
  {
   "cell_type": "code",
   "execution_count": null,
   "id": "5a1f62bb-2bf8-4f97-bf1d-fefd4629ec5e",
   "metadata": {},
   "outputs": [],
   "source": []
  },
  {
   "cell_type": "code",
   "execution_count": 35,
   "id": "15dd19c7-73a2-4123-b7ed-76b4e3a1e774",
   "metadata": {},
   "outputs": [],
   "source": [
    "all_words_2 = [\n",
    "    'looking', 'really', 'elon', 'people', 'musk', 'c', 'ca', 'baba', 'work', 'lol', 'mu', 'calls', 'top', 'high', 'business', 'sq', 'think', 'demand', 'maybe',\n",
    "    'nvda', 'shorts', 'company', 'goog', 'gs', 'says', 'selling', 'never', 'buying', 'sales', 'spx', 'ceo', 'try', 'profit', 'fb', 'bad', 'twtr', 'fraud', 'sec', 'tslaq', 'bidu',\n",
    "    'ge', 'management', 'china', 'sure', 'cash', 'research', 'news', 'dia', 'well', 'stake', 'gld', 'wfc', 'finance', 'higher', 'money', 'app', 'active', 'low', 'patent', 'ip',\n",
    "    'stockmarket', 'vix', 'roku', 'djia', 'u', 'iphone', 'bullish', 'tech', 'room', 'ios',\n",
    "    'read', 'value', 'bezos', 'retail', 'trump', 'offering', 'since', 'bought', 'gold', 'tlt', 'alexa', 'gs', 'ndx', 'making', 'guides', 'growth', 'slv',\n",
    "    'youtube', 'gild', 'swing', 'sign', 'search', 'data', 'miss', 'faang', 'fang', 'snap', 'google', 'update', 'rating', 'facebook', 'cat', 'feed',\n",
    "    'rose', 'declined', 'flow', 'btc', 'cut', 'HTTPURL', 'xbox', 'chk', 'asset', 'jd', 'target', 'nok',\n",
    "    'brett', 'monday', 'sen', 'credible', 'saying', 'show', 'story', 'wants', 'let', 'assaulted', 'ms', 'assault', 'alleged', 'breaking', 'sexual',\n",
    "    'forward', 'judge', 'made', 'remember', 'hearing', 'w', 'first', 'democrats', 'senator', 'fbi', 'lying', 'thank', 'republicans', 'thursday', 'gop', 'h', 'testimony',\n",
    "    'come', 'big', 'movie', 'florida', 'hold', 'shanghai', 'world', 'dividend', 'closed', 'opening', 'nickelodeon', 'coronavirus', 'disneyland', 'james', 'mouse',\n",
    "    'long', 'streaming', 'gunn', 'earnings', 'coming', 'covid', 'years', 'favorite', 'theme', 'call', 'park', 'reopen', 'parks', 'cases', 'network', 'put', 'reopening', 'close',\n",
    "    'stop', 'ads', 'companies', 'ad', 'india', 'support', 'highs', 'social', 'zuckerberg', 'open', 'breakout', 'media', 'us', 'move', 'speech', 'boycott', 'platform', 'mark', 'advertisers', 'break', 'advertising',\n",
    "    'lost', 'react', 'flyknit', 'burn', 'police', 'air', 'donate', 'women', 'red', 'way', 'boycotting', 'white', 'purchase', 'adidas', 'sale', 'presto', 'force',\n",
    "    'something', 'making', 'socks', 'made', 'max', 'vapormax', 'men', 'clothes', 'burning', 'available', 'shoes', 'dm',\n",
    "    'chill', 'shows', 'fav', 'already', 'please', 'na', 'full', 'spotify', 'access', 'watching', 'tv', 'minecraft', 'original', 'need', 'film', 'black', 'premium', 'loved', 'movies',\n",
    "    'security', 'moving', 'committee', 'turned', 'military', 'negative', 'chair', 'russian', 'guidance', 'indicators', 'community', 'maxpain', 'daytrading', 'pc', 'b', 'samsung', 'obama', 'technical', 'brennan', 'optionsflow', 'positive', 'senate', 'interest',\n",
    "    'technicalanalysis', 'provision', 'july', 'june', 'sentiment', 'score', 'odds', 'income', 'form', 'lower', 'loss', 'small', 'beat', 'filed', 'credit', 'view', 'delayed',\n",
    "    'nelson', 'r', 'toilet', 'paper', 'bollinger', 'hygiene', 'reports', 'expiration', 'peltz', 'cont', 'increase', 'cfo', 'volatility', 'longerterm',\n",
    "    'added', 'position', 'term', 'bank', 'paying', 'start', 'filing', 'paid', 'elliottwave',\n",
    "    'gift', 'hiring', 'al', 'bitcoin', 'cup', 'order', 'dunkin', 'latte', 'straws', 'kuwait', 'asimah', 'city', 'refugees', 'called', 'plastic',\n",
    "    'shopping', 'car', 'reuters', 'visa', 'bmw', 'stores', 'little', 'find', 'food', 'woman', 'online', 'ebay',\n",
    "    'pay', 'surveycity', 'usd', 'click', 'someone', 'ends', 'minutes', 'hi', 'working', 'dar', 'serious', 'anyone', 'lucky', 'cbs', \n",
    "    'fast', 'using', 'accept', 'friend', 'away', 'en', 'retweets', 'enter', 'hours', 'ready',\n",
    "    'risk', 'financialservices', 'zone', 'boa', 'fundamental', 'place', 'jun', 'loan', 'premium',\n",
    "    'biontech', 'treatment', 'trials', 'potential', 'nct', 'candidate', 'study', 'primary', 'play', 'early', 'months', 'rsi', 'breast', 'ibrance', 'bourla', 'clinical',\n",
    "    'act', 'heroes', 'financial', 'visaincordinaryshares', 'second', 'travel', 'expiration', 'david',\n",
    "    'enters', 'taking', 'expected', 'showing', 'weekend', 'midday', 'decline', 'ended', 'cycle', 'box',\n",
    "    'medical', 'billion', 'j', 'analysts', 'talc', 'healthcare', 'talks', 'revenue', 'raises', 'report', 'drug', 'devices', 'cuts',\n",
    "    'beautiful', 'threadripper', 'confirms', 'servers', 'current', 'timeframe', 'area', 'fair', 'spotted', 'near', 'trying', 'chip', \n",
    "    'direction', 'based', 'stockstotrade', 'guys', 'leak', 'pierre', 'decent', 'signals', 'lenovo', 'center', 'fundamentals', 'milan', 'expectations',\n",
    "    'tuesday', 'snacks', 'zone', 'coke', 'lead', 'pepsi', 'brands', 'results', 'currently', 'drink',\n",
    "    'burger', 'eat', 'happy', 'fries', 'sony', 'mac', 'job', 'never', 'every', 'workers', 'ai',\n",
    "    'throttled', 'support', 'wireless', 'bluejeans', 'service', 'macd', 'line', 'services', 'internet', 'evp', 'wildfire', 'department', \n",
    "    'verizoncommunications', 'chief',\n",
    "    'avg', 'pandemic', 'later', 'social', 'way', 'globally', 'decline', 'global', 'overbought', 'far', 'add', 'impact',\n",
    "    'optionstrade', 'point', 'roe', 'information', 'poor', 'ref', 'visit', 'neutral', 'roa', 'optiontrading', 'noticeable', 'nyse', 'weak', \n",
    "    'satellites',\n",
    "    'trend', 'jefferies', 'friday', 'analyst', 'wednesday', 'details', 'canada', 'royal', 'oppenheimer', 'improving', 'foundation', 'perform', 'major',\n",
    "    'lynparza', 'application', 'oks', 'line', 'lowers', 'common', 'receives',\n",
    "    'setup', 'misses', 'unitedhealthgroup', 'performance', 'suisse', 'incorporated', 'band', 'suntrust', 'pledges', 'residents', 'results', 'banks',\n",
    "    'worst', 'appearances', 'holding', 'breakout', 'excellent', 'resistance',\n",
    "    'implied', 'communication', 'makes', 'flow', 'studios', 'disappear', 'lmao', 'divisions', 'communications', 'suddenly', 'theme', 'struggles', \n",
    "    'technology', 'dropped', 'feeling', 'lockdown',\n",
    "    'leading', 'change', 'international', 'machines', 'leader', 'rometty', 'design', 'stellar', 'drive', 'x',\n",
    "    'crying', 'id', 'discount', 'capital', 'sorry', 'everything', 'photo', 'corporation',\n",
    "    'morgan', 'venezuela', 'increases', 'macd', 'divergence', 'downgraded', 'march',\n",
    "    'man', 'companies', 'software', 'essentials', 'talk', 'set', 'concert', 'players', 'sap', 'oakland', 'reading',\n",
    "    'life', 'labor', 'fedex', 'transportation', 'truck', 'openings', 'delivery', 'galaxy', 'mcdonald', 'parcel', 'drivers', 'future', \n",
    "    'latest', 'downs', 'deliver', 'careerarc', 'always', 'thanks',\n",
    "    'optionstrade', 'become', 'provider', 'inspiring', 'help', 'routing', 'networking', 'services', 'leaders', 'nowdownloading', 'unified', 'examdump', 'ip', 'associate', 'certified', 'ccna', 'examdumps', 'anything',\n",
    "    'deals', 'tried', 'due', 'church', 'outskirts', 'killed', 'concern', 'beats', 'shooting', 'round', 'jeffersontown', 'loudest'\n",
    "]\n"
   ]
  },
  {
   "cell_type": "code",
   "execution_count": null,
   "id": "db6a75e4-afbd-423f-9b14-0661a2926406",
   "metadata": {},
   "outputs": [
    {
     "name": "stdout",
     "output_type": "stream",
     "text": [
      "movi\n",
      "movi\n"
     ]
    }
   ],
   "source": [
    "from nltk.stem import PorterStemmer\n",
    "\n",
    "stemmer = PorterStemmer()\n",
    "print(stemmer.stem(\"movie\"))  \n",
    "print(stemmer.stem(\"movies\"))  \n"
   ]
  }
 ],
 "metadata": {
  "kernelspec": {
   "display_name": "Python 3 (ipykernel)",
   "language": "python",
   "name": "python3"
  },
  "language_info": {
   "codemirror_mode": {
    "name": "ipython",
    "version": 3
   },
   "file_extension": ".py",
   "mimetype": "text/x-python",
   "name": "python",
   "nbconvert_exporter": "python",
   "pygments_lexer": "ipython3",
   "version": "3.10.6"
  }
 },
 "nbformat": 4,
 "nbformat_minor": 5
}
