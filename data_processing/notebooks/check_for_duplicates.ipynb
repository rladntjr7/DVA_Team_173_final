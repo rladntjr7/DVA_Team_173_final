{
 "cells": [
  {
   "cell_type": "markdown",
   "id": "4cecadb9-2e26-400a-a844-138b0ee1e80f",
   "metadata": {},
   "source": [
    "#  Checking Kenny's Dataset"
   ]
  },
  {
   "cell_type": "code",
   "execution_count": 79,
   "id": "760aaa3a-f026-411e-bf77-a34dd9bda2e0",
   "metadata": {},
   "outputs": [],
   "source": [
    "import pandas as pd\n",
    "import re"
   ]
  },
  {
   "cell_type": "code",
   "execution_count": 2,
   "id": "3a499586-7a9d-4733-aa15-3d72f08d4813",
   "metadata": {},
   "outputs": [],
   "source": [
    "fp = \"/home/ginger/code/gderiddershanghai/DVA_Team_173/data_full/raw/twitter_data/kenny/kenny_stock_tweets_labelled.csv\"\n",
    "df = pd.read_csv(fp,)"
   ]
  },
  {
   "cell_type": "code",
   "execution_count": 8,
   "id": "fe2df6ee-eee1-4894-b099-77d59f09d42c",
   "metadata": {},
   "outputs": [],
   "source": [
    "fp_original = \"/home/ginger/code/gderiddershanghai/DVA_Team_173/data_full/raw/twitter_data/kenny/kenny_stock_tweets.csv\"\n",
    "df_original = pd.read_csv(fp_original)"
   ]
  },
  {
   "cell_type": "code",
   "execution_count": 10,
   "id": "8064313a-c35f-4790-b63c-e4220bd7d02e",
   "metadata": {},
   "outputs": [
    {
     "data": {
      "text/plain": [
       "16314"
      ]
     },
     "execution_count": 10,
     "metadata": {},
     "output_type": "execute_result"
    }
   ],
   "source": [
    "df_original['Tweet'].duplicated().sum()"
   ]
  },
  {
   "cell_type": "code",
   "execution_count": 22,
   "id": "6353f267-3d2b-4d27-bf06-7ff3b55d8cce",
   "metadata": {},
   "outputs": [
    {
     "data": {
      "text/plain": [
       "'\" If I allocate $1 into the SPY ETF: This is what happens - 6.3 cents to MSFT, 6 cents to AAPL, 4.4 cents to GOOG/L, 4 cents to AMZN, 2 cents to TSLA, 2 cents to FB/MVRS, 25 cents every $1 “Equity Allocation” goes into these 6 stocks. Apple is larger than Germany.\" - Goldman'"
      ]
     },
     "execution_count": 22,
     "metadata": {},
     "output_type": "execute_result"
    }
   ],
   "source": [
    "df[df['Tweet'].duplicated()].sort_values(by='Tweet').reset_index().iloc[0,2]"
   ]
  },
  {
   "cell_type": "code",
   "execution_count": 8,
   "id": "72d7a0f3-5148-4484-8fe8-49be4d5fbbce",
   "metadata": {},
   "outputs": [
    {
     "data": {
      "text/plain": [
       "0"
      ]
     },
     "execution_count": 8,
     "metadata": {},
     "output_type": "execute_result"
    }
   ],
   "source": [
    "df.duplicated().sum()"
   ]
  },
  {
   "cell_type": "code",
   "execution_count": 46,
   "id": "3d52b00b-88d1-4669-a97f-712bc26d492b",
   "metadata": {},
   "outputs": [
    {
     "data": {
      "text/plain": [
       "912003"
      ]
     },
     "execution_count": 46,
     "metadata": {},
     "output_type": "execute_result"
    }
   ],
   "source": [
    "df['full_text'].duplicated().sum()"
   ]
  },
  {
   "cell_type": "markdown",
   "id": "aac32b6e-d4af-44b8-9521-eb5e19709a34",
   "metadata": {},
   "source": [
    "# Checking Jason's IEEE dataset"
   ]
  },
  {
   "cell_type": "code",
   "execution_count": 64,
   "id": "e19d4feb-37ea-4319-b176-2a5d2375023a",
   "metadata": {},
   "outputs": [],
   "source": [
    "fp_jason = \"/home/ginger/code/gderiddershanghai/DVA_Team_173/data_full/raw/twitter_data/kaggle/IEE_Tweets_with_scores.csv\"\n",
    "df_jason =  pd.read_csv(fp_jason, engine='python', on_bad_lines='skip')\n"
   ]
  },
  {
   "cell_type": "code",
   "execution_count": 66,
   "id": "0904136e-f78e-4241-af2d-7eaad109b432",
   "metadata": {},
   "outputs": [
    {
     "data": {
      "text/plain": [
       "'RT @5stocksinto: 5 Malaysian Stocks Into Apparel Retail https://t.co/JOzCUcyUz7 #Malaysia #Retail #Stocks #Investment #Apparel #Fashion #Ga…'"
      ]
     },
     "execution_count": 66,
     "metadata": {},
     "output_type": "execute_result"
    }
   ],
   "source": [
    "df_jason[df_jason['full_text'].duplicated()].sort_values(by='full_text').reset_index().iloc[16750,-2]"
   ]
  },
  {
   "cell_type": "code",
   "execution_count": 68,
   "id": "da838523-7955-4f53-9917-88a4695850cc",
   "metadata": {},
   "outputs": [],
   "source": [
    "df_jason.drop_duplicates(subset='full_text', inplace=True)"
   ]
  },
  {
   "cell_type": "markdown",
   "id": "16c9e906-88b4-4c6b-8333-dacd7e06d2be",
   "metadata": {},
   "source": [
    "# changed Carina's code\n"
   ]
  },
  {
   "cell_type": "code",
   "execution_count": 78,
   "id": "ccc5de00-a063-4ef6-b15f-db283f4757cb",
   "metadata": {},
   "outputs": [],
   "source": [
    "def extract_single_ticker(text):\n",
    "    tickers = re.findall(r'\\$[A-Za-z]+', str(text))\n",
    "    tickers = [t.replace(\"$\", \"\").upper() for t in tickers]\n",
    "    return tickers[0] if len(tickers) == 1 else None  # Only return if exactly one\n",
    "\n",
    "# Apply the function to the DataFrame\n",
    "df_jason[\"stock_ticker\"] = df_jason[\"full_text\"].apply(extract_single_ticker)\n",
    "\n",
    "# Drop rows where no single ticker was found\n",
    "filtered_df = df_jason[df_jason[\"stock_ticker\"].notnull()].copy()\n"
   ]
  },
  {
   "cell_type": "code",
   "execution_count": 98,
   "id": "5bbfd661-3706-4b45-8fba-6bf84c5c16bf",
   "metadata": {},
   "outputs": [],
   "source": [
    "df_filtered['Tweet'] = df_filtered['full_text']\n",
    "df_filtered['Score'] = df_filtered['predicted_score']\n",
    "df_filtered['Created_at'] = df_filtered['created_at']\n",
    "df_filtered['Stock_ticker'] = df_filtered['stock_ticker']\n",
    "df_filtered['Source'] =  'IEEE Dataset https://ieee-dataport.org/open-access/stock-market-tweets-data'"
   ]
  },
  {
   "cell_type": "code",
   "execution_count": 99,
   "id": "650a4309-455c-4cfd-93d4-b9d4b217d6a1",
   "metadata": {},
   "outputs": [],
   "source": [
    "df_filtered = df_filtered[['Created_at','Tweet','Stock_ticker','Score', 'Source']]"
   ]
  },
  {
   "cell_type": "code",
   "execution_count": 100,
   "id": "e18d3847-f834-448c-81e8-7924cb58736b",
   "metadata": {},
   "outputs": [],
   "source": [
    "def get_company_name(ticker):\n",
    "    try:\n",
    "        stock = yf.Ticker(ticker)\n",
    "        return stock.info.get(\"longName\", \"Unknown\")\n",
    "    except Exception:\n",
    "        return \"Unknown\""
   ]
  },
  {
   "cell_type": "code",
   "execution_count": 101,
   "id": "44d9725a-6a57-4568-a909-2ee6626043d4",
   "metadata": {},
   "outputs": [
    {
     "data": {
      "text/html": [
       "<div>\n",
       "<style scoped>\n",
       "    .dataframe tbody tr th:only-of-type {\n",
       "        vertical-align: middle;\n",
       "    }\n",
       "\n",
       "    .dataframe tbody tr th {\n",
       "        vertical-align: top;\n",
       "    }\n",
       "\n",
       "    .dataframe thead th {\n",
       "        text-align: right;\n",
       "    }\n",
       "</style>\n",
       "<table border=\"1\" class=\"dataframe\">\n",
       "  <thead>\n",
       "    <tr style=\"text-align: right;\">\n",
       "      <th></th>\n",
       "      <th>Symbol</th>\n",
       "      <th>Name</th>\n",
       "      <th>Sector</th>\n",
       "    </tr>\n",
       "  </thead>\n",
       "  <tbody>\n",
       "    <tr>\n",
       "      <th>0</th>\n",
       "      <td>MMM</td>\n",
       "      <td>3M Company</td>\n",
       "      <td>Industrials</td>\n",
       "    </tr>\n",
       "    <tr>\n",
       "      <th>1</th>\n",
       "      <td>AOS</td>\n",
       "      <td>A.O. Smith Corp</td>\n",
       "      <td>Industrials</td>\n",
       "    </tr>\n",
       "    <tr>\n",
       "      <th>2</th>\n",
       "      <td>ABT</td>\n",
       "      <td>Abbott Laboratories</td>\n",
       "      <td>Health Care</td>\n",
       "    </tr>\n",
       "    <tr>\n",
       "      <th>3</th>\n",
       "      <td>ABBV</td>\n",
       "      <td>AbbVie Inc.</td>\n",
       "      <td>Health Care</td>\n",
       "    </tr>\n",
       "    <tr>\n",
       "      <th>4</th>\n",
       "      <td>ABMD</td>\n",
       "      <td>ABIOMED Inc</td>\n",
       "      <td>Health Care</td>\n",
       "    </tr>\n",
       "  </tbody>\n",
       "</table>\n",
       "</div>"
      ],
      "text/plain": [
       "  Symbol                 Name       Sector\n",
       "0    MMM           3M Company  Industrials\n",
       "1    AOS      A.O. Smith Corp  Industrials\n",
       "2    ABT  Abbott Laboratories  Health Care\n",
       "3   ABBV          AbbVie Inc.  Health Care\n",
       "4   ABMD          ABIOMED Inc  Health Care"
      ]
     },
     "execution_count": 101,
     "metadata": {},
     "output_type": "execute_result"
    }
   ],
   "source": [
    "stock_dic_fp = '/home/ginger/code/gderiddershanghai/DVA_Team_173/data_full/raw/twitter_data/kaggle/sp500.csv'\n",
    "stock_dic_df = pd.read_csv(stock_dic_fp)\n",
    "stock_dic_df.head()"
   ]
  },
  {
   "cell_type": "code",
   "execution_count": 102,
   "id": "cd73559d-0003-4539-8854-c6d8089ec0d3",
   "metadata": {},
   "outputs": [
    {
     "data": {
      "text/html": [
       "<div>\n",
       "<style scoped>\n",
       "    .dataframe tbody tr th:only-of-type {\n",
       "        vertical-align: middle;\n",
       "    }\n",
       "\n",
       "    .dataframe tbody tr th {\n",
       "        vertical-align: top;\n",
       "    }\n",
       "\n",
       "    .dataframe thead th {\n",
       "        text-align: right;\n",
       "    }\n",
       "</style>\n",
       "<table border=\"1\" class=\"dataframe\">\n",
       "  <thead>\n",
       "    <tr style=\"text-align: right;\">\n",
       "      <th></th>\n",
       "      <th>Created_at</th>\n",
       "      <th>Tweet</th>\n",
       "      <th>Stock_ticker</th>\n",
       "      <th>Score</th>\n",
       "      <th>Source</th>\n",
       "    </tr>\n",
       "  </thead>\n",
       "  <tbody>\n",
       "    <tr>\n",
       "      <th>0</th>\n",
       "      <td>2020-04-09 23:59:51+00:00</td>\n",
       "      <td>@KennyDegu very very little volume. With $10T ...</td>\n",
       "      <td>SPX</td>\n",
       "      <td>-0.637270</td>\n",
       "      <td>IEEE Dataset https://ieee-dataport.org/open-ac...</td>\n",
       "    </tr>\n",
       "    <tr>\n",
       "      <th>3</th>\n",
       "      <td>2020-04-09 23:58:27+00:00</td>\n",
       "      <td>@Issaquahfunds Hedged our $MSFT position into ...</td>\n",
       "      <td>MSFT</td>\n",
       "      <td>-1.062240</td>\n",
       "      <td>IEEE Dataset https://ieee-dataport.org/open-ac...</td>\n",
       "    </tr>\n",
       "    <tr>\n",
       "      <th>6</th>\n",
       "      <td>2020-04-09 23:57:27+00:00</td>\n",
       "      <td>Pfizer Shares Acquired by Ipswich Investment M...</td>\n",
       "      <td>PFE</td>\n",
       "      <td>0.341477</td>\n",
       "      <td>IEEE Dataset https://ieee-dataport.org/open-ac...</td>\n",
       "    </tr>\n",
       "    <tr>\n",
       "      <th>9</th>\n",
       "      <td>2020-04-09 23:56:58+00:00</td>\n",
       "      <td>RT @TDANetwork: 📽️ #TheWatchList panel assesse...</td>\n",
       "      <td>AAPL</td>\n",
       "      <td>-0.530649</td>\n",
       "      <td>IEEE Dataset https://ieee-dataport.org/open-ac...</td>\n",
       "    </tr>\n",
       "    <tr>\n",
       "      <th>13</th>\n",
       "      <td>2020-04-09 23:56:25+00:00</td>\n",
       "      <td>I can't stand this #Facebook commercial that k...</td>\n",
       "      <td>FB</td>\n",
       "      <td>-0.972969</td>\n",
       "      <td>IEEE Dataset https://ieee-dataport.org/open-ac...</td>\n",
       "    </tr>\n",
       "    <tr>\n",
       "      <th>...</th>\n",
       "      <td>...</td>\n",
       "      <td>...</td>\n",
       "      <td>...</td>\n",
       "      <td>...</td>\n",
       "      <td>...</td>\n",
       "    </tr>\n",
       "    <tr>\n",
       "      <th>923785</th>\n",
       "      <td>2020-07-16 00:03:23+00:00</td>\n",
       "      <td>Mondelez International $MDLZ Has A Neutral #Fu...</td>\n",
       "      <td>MDLZ</td>\n",
       "      <td>0.105952</td>\n",
       "      <td>IEEE Dataset https://ieee-dataport.org/open-ac...</td>\n",
       "    </tr>\n",
       "    <tr>\n",
       "      <th>923787</th>\n",
       "      <td>2020-07-16 00:02:42+00:00</td>\n",
       "      <td>Head and shoulders in the $Spx futures?</td>\n",
       "      <td>SPX</td>\n",
       "      <td>-0.093359</td>\n",
       "      <td>IEEE Dataset https://ieee-dataport.org/open-ac...</td>\n",
       "    </tr>\n",
       "    <tr>\n",
       "      <th>923788</th>\n",
       "      <td>2020-07-16 00:02:40+00:00</td>\n",
       "      <td>RT @Ozono_Merval: $SPX &amp;lt;futuros&amp;gt; &amp;amp; #...</td>\n",
       "      <td>SPX</td>\n",
       "      <td>-0.142436</td>\n",
       "      <td>IEEE Dataset https://ieee-dataport.org/open-ac...</td>\n",
       "    </tr>\n",
       "    <tr>\n",
       "      <th>923793</th>\n",
       "      <td>2020-07-16 00:01:52+00:00</td>\n",
       "      <td>Alumina Limited (#ASX: $AWC) released second q...</td>\n",
       "      <td>AWC</td>\n",
       "      <td>-0.986080</td>\n",
       "      <td>IEEE Dataset https://ieee-dataport.org/open-ac...</td>\n",
       "    </tr>\n",
       "    <tr>\n",
       "      <th>923808</th>\n",
       "      <td>2020-07-16 00:00:23+00:00</td>\n",
       "      <td>$KO Coca-Cola #Options #maxpain Chart, Open In...</td>\n",
       "      <td>KO</td>\n",
       "      <td>0.421236</td>\n",
       "      <td>IEEE Dataset https://ieee-dataport.org/open-ac...</td>\n",
       "    </tr>\n",
       "  </tbody>\n",
       "</table>\n",
       "<p>270900 rows × 5 columns</p>\n",
       "</div>"
      ],
      "text/plain": [
       "                       Created_at  \\\n",
       "0       2020-04-09 23:59:51+00:00   \n",
       "3       2020-04-09 23:58:27+00:00   \n",
       "6       2020-04-09 23:57:27+00:00   \n",
       "9       2020-04-09 23:56:58+00:00   \n",
       "13      2020-04-09 23:56:25+00:00   \n",
       "...                           ...   \n",
       "923785  2020-07-16 00:03:23+00:00   \n",
       "923787  2020-07-16 00:02:42+00:00   \n",
       "923788  2020-07-16 00:02:40+00:00   \n",
       "923793  2020-07-16 00:01:52+00:00   \n",
       "923808  2020-07-16 00:00:23+00:00   \n",
       "\n",
       "                                                    Tweet Stock_ticker  \\\n",
       "0       @KennyDegu very very little volume. With $10T ...          SPX   \n",
       "3       @Issaquahfunds Hedged our $MSFT position into ...         MSFT   \n",
       "6       Pfizer Shares Acquired by Ipswich Investment M...          PFE   \n",
       "9       RT @TDANetwork: 📽️ #TheWatchList panel assesse...         AAPL   \n",
       "13      I can't stand this #Facebook commercial that k...           FB   \n",
       "...                                                   ...          ...   \n",
       "923785  Mondelez International $MDLZ Has A Neutral #Fu...         MDLZ   \n",
       "923787            Head and shoulders in the $Spx futures?          SPX   \n",
       "923788  RT @Ozono_Merval: $SPX &lt;futuros&gt; &amp; #...          SPX   \n",
       "923793  Alumina Limited (#ASX: $AWC) released second q...          AWC   \n",
       "923808  $KO Coca-Cola #Options #maxpain Chart, Open In...           KO   \n",
       "\n",
       "           Score                                             Source  \n",
       "0      -0.637270  IEEE Dataset https://ieee-dataport.org/open-ac...  \n",
       "3      -1.062240  IEEE Dataset https://ieee-dataport.org/open-ac...  \n",
       "6       0.341477  IEEE Dataset https://ieee-dataport.org/open-ac...  \n",
       "9      -0.530649  IEEE Dataset https://ieee-dataport.org/open-ac...  \n",
       "13     -0.972969  IEEE Dataset https://ieee-dataport.org/open-ac...  \n",
       "...          ...                                                ...  \n",
       "923785  0.105952  IEEE Dataset https://ieee-dataport.org/open-ac...  \n",
       "923787 -0.093359  IEEE Dataset https://ieee-dataport.org/open-ac...  \n",
       "923788 -0.142436  IEEE Dataset https://ieee-dataport.org/open-ac...  \n",
       "923793 -0.986080  IEEE Dataset https://ieee-dataport.org/open-ac...  \n",
       "923808  0.421236  IEEE Dataset https://ieee-dataport.org/open-ac...  \n",
       "\n",
       "[270900 rows x 5 columns]"
      ]
     },
     "execution_count": 102,
     "metadata": {},
     "output_type": "execute_result"
    }
   ],
   "source": [
    "df_filtered"
   ]
  },
  {
   "cell_type": "code",
   "execution_count": 103,
   "id": "9dea8c5a-51c0-4316-83e9-fba07af81e50",
   "metadata": {},
   "outputs": [],
   "source": [
    "stock_dic_df = stock_dic_df.rename(columns={\"Symbol\": \"Stock_ticker\", \"Name\": \"Company_Name\"})\n",
    "df_filtered = df_filtered.merge(stock_dic_df, on=\"Stock_ticker\", how=\"left\")"
   ]
  },
  {
   "cell_type": "code",
   "execution_count": 105,
   "id": "919d8f8b-4fa1-4f22-a9c5-109773efe950",
   "metadata": {},
   "outputs": [
    {
     "data": {
      "text/html": [
       "<div>\n",
       "<style scoped>\n",
       "    .dataframe tbody tr th:only-of-type {\n",
       "        vertical-align: middle;\n",
       "    }\n",
       "\n",
       "    .dataframe tbody tr th {\n",
       "        vertical-align: top;\n",
       "    }\n",
       "\n",
       "    .dataframe thead th {\n",
       "        text-align: right;\n",
       "    }\n",
       "</style>\n",
       "<table border=\"1\" class=\"dataframe\">\n",
       "  <thead>\n",
       "    <tr style=\"text-align: right;\">\n",
       "      <th></th>\n",
       "      <th>Created_at</th>\n",
       "      <th>Tweet</th>\n",
       "      <th>Stock_ticker</th>\n",
       "      <th>Score</th>\n",
       "      <th>Source</th>\n",
       "      <th>Company_Name</th>\n",
       "      <th>Sector</th>\n",
       "    </tr>\n",
       "  </thead>\n",
       "  <tbody>\n",
       "    <tr>\n",
       "      <th>106785</th>\n",
       "      <td>2020-05-08 00:39:02+00:00</td>\n",
       "      <td>ASML Holding NV $ASML Given Average Recommenda...</td>\n",
       "      <td>ASML</td>\n",
       "      <td>0.918845</td>\n",
       "      <td>IEEE Dataset https://ieee-dataport.org/open-ac...</td>\n",
       "      <td>NaN</td>\n",
       "      <td>NaN</td>\n",
       "    </tr>\n",
       "    <tr>\n",
       "      <th>59463</th>\n",
       "      <td>2020-04-24 16:09:37+00:00</td>\n",
       "      <td>WOW!!… So far, less than a 1% \"Intraday Move\" ...</td>\n",
       "      <td>SPX</td>\n",
       "      <td>0.666514</td>\n",
       "      <td>IEEE Dataset https://ieee-dataport.org/open-ac...</td>\n",
       "      <td>NaN</td>\n",
       "      <td>NaN</td>\n",
       "    </tr>\n",
       "  </tbody>\n",
       "</table>\n",
       "</div>"
      ],
      "text/plain": [
       "                       Created_at  \\\n",
       "106785  2020-05-08 00:39:02+00:00   \n",
       "59463   2020-04-24 16:09:37+00:00   \n",
       "\n",
       "                                                    Tweet Stock_ticker  \\\n",
       "106785  ASML Holding NV $ASML Given Average Recommenda...         ASML   \n",
       "59463   WOW!!… So far, less than a 1% \"Intraday Move\" ...          SPX   \n",
       "\n",
       "           Score                                             Source  \\\n",
       "106785  0.918845  IEEE Dataset https://ieee-dataport.org/open-ac...   \n",
       "59463   0.666514  IEEE Dataset https://ieee-dataport.org/open-ac...   \n",
       "\n",
       "       Company_Name Sector  \n",
       "106785          NaN    NaN  \n",
       "59463           NaN    NaN  "
      ]
     },
     "execution_count": 105,
     "metadata": {},
     "output_type": "execute_result"
    }
   ],
   "source": [
    "df_filtered.sample(2)"
   ]
  },
  {
   "cell_type": "code",
   "execution_count": 106,
   "id": "f67c05ed-ff72-4de6-9d57-e3a95f102f71",
   "metadata": {},
   "outputs": [],
   "source": [
    "df_filtered = df_filtered[~df_filtered['Company_Name'].isna()]"
   ]
  },
  {
   "cell_type": "code",
   "execution_count": 109,
   "id": "59a8cfc7-a637-467d-bbd6-45aa1f00cff2",
   "metadata": {},
   "outputs": [
    {
     "data": {
      "text/plain": [
       "0"
      ]
     },
     "execution_count": 109,
     "metadata": {},
     "output_type": "execute_result"
    }
   ],
   "source": [
    "df_filtered['Tweet'].duplicated().sum()"
   ]
  },
  {
   "cell_type": "code",
   "execution_count": 111,
   "id": "cbfb9d92-34f1-4132-bdbf-d00a360186ec",
   "metadata": {},
   "outputs": [],
   "source": [
    "df_filtered.reset_index(drop=True, inplace=True)"
   ]
  },
  {
   "cell_type": "code",
   "execution_count": 112,
   "id": "c87e1c17-0a92-40ac-ac17-6b9105343375",
   "metadata": {},
   "outputs": [],
   "source": [
    "output_path = '/home/ginger/code/gderiddershanghai/DVA_Team_173/data_full/processed/IEEE/processed.csv'\n",
    "df_filtered.to_csv(output_path, index=False)"
   ]
  },
  {
   "cell_type": "code",
   "execution_count": null,
   "id": "2e3a2c2e-6af4-4719-acf7-e5392dca4274",
   "metadata": {},
   "outputs": [],
   "source": []
  }
 ],
 "metadata": {
  "kernelspec": {
   "display_name": "Python 3 (ipykernel)",
   "language": "python",
   "name": "python3"
  },
  "language_info": {
   "codemirror_mode": {
    "name": "ipython",
    "version": 3
   },
   "file_extension": ".py",
   "mimetype": "text/x-python",
   "name": "python",
   "nbconvert_exporter": "python",
   "pygments_lexer": "ipython3",
   "version": "3.10.6"
  }
 },
 "nbformat": 4,
 "nbformat_minor": 5
}
