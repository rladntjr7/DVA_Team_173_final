{
 "cells": [
  {
   "cell_type": "code",
   "execution_count": 1,
   "id": "76e3fb62-a4a3-4219-9fe5-7ba0e9e06e4b",
   "metadata": {},
   "outputs": [],
   "source": [
    "import pandas as pd\n",
    "import numpy as np\n",
    "from datetime import datetime\n",
    "import string"
   ]
  },
  {
   "cell_type": "code",
   "execution_count": 2,
   "id": "00cec950-d84d-47fc-8fa5-9768817c4e2c",
   "metadata": {},
   "outputs": [],
   "source": [
    "fp1 = \"/home/ginger/code/gderiddershanghai/DVA_Team_173/data_full/processed/IEEE/bottom.csv\"\n",
    "fp2 = \"/home/ginger/code/gderiddershanghai/DVA_Team_173/data_full/processed/IEEE/mid.csv\"\n",
    "fp3 = \"/home/ginger/code/gderiddershanghai/DVA_Team_173/data_full/processed/IEEE/top.csv\"\n",
    "fp4 = \"/home/ginger/code/gderiddershanghai/DVA_Team_173/data_full/raw/twitter_data/kaggle/tweets_labelled_09042020_16072020.csv\""
   ]
  },
  {
   "cell_type": "code",
   "execution_count": 4,
   "id": "c3c7a177-7bb6-4815-a120-bb36f06408bd",
   "metadata": {},
   "outputs": [],
   "source": [
    "df1 = pd.read_csv(fp1)\n",
    "df2 = pd.read_csv(fp2)\n",
    "df3 = pd.read_csv(fp3)\n",
    "df4 = pd.read_csv(fp4, delimiter=\";\")"
   ]
  },
  {
   "cell_type": "code",
   "execution_count": 7,
   "id": "9959b25e-dce7-47c5-bcc0-c27107e6159c",
   "metadata": {},
   "outputs": [],
   "source": [
    "df1 = df1[[\"TWEET\", \"TEXTBLOB_POLARITY\"]].sample(7500, random_state=1)\n",
    "df2 = df2[[\"TWEET\", \"TEXTBLOB_POLARITY\"]].sample(7500, random_state=1)\n",
    "df3 = df3[[\"TWEET\", \"TEXTBLOB_POLARITY\"]].sample(7500, random_state=1)"
   ]
  },
  {
   "cell_type": "code",
   "execution_count": 11,
   "id": "584424df-7d72-40db-bd5b-dfafa032cf74",
   "metadata": {},
   "outputs": [],
   "source": [
    "df_combined = pd.concat([df1, df2, df3], ignore_index=True)"
   ]
  },
  {
   "cell_type": "code",
   "execution_count": 12,
   "id": "450e9b09-9a02-4ffb-8650-a92dce6f1772",
   "metadata": {},
   "outputs": [],
   "source": [
    "df_combined[\"source\"] = \"IEEE\""
   ]
  },
  {
   "cell_type": "code",
   "execution_count": 14,
   "id": "44dd20e3-e3c1-4b65-a0e7-4814f51b12f6",
   "metadata": {},
   "outputs": [],
   "source": [
    "df_combined.columns = [\"text\", \"score\", \"source\"]"
   ]
  },
  {
   "cell_type": "code",
   "execution_count": 15,
   "id": "904fdbf2-adb1-4808-ac43-ab49ea941a8a",
   "metadata": {},
   "outputs": [],
   "source": [
    "correct = [\"positive\", \"negative\", \"neutral\"]\n",
    "df4_good = df4[df4[\"sentiment\"].isin(correct)]"
   ]
  },
  {
   "cell_type": "code",
   "execution_count": 21,
   "id": "1caccbb1-3b3d-4596-9da7-3c41d7b9fad9",
   "metadata": {},
   "outputs": [
    {
     "name": "stderr",
     "output_type": "stream",
     "text": [
      "/tmp/ipykernel_3208/1032425340.py:1: SettingWithCopyWarning: \n",
      "A value is trying to be set on a copy of a slice from a DataFrame.\n",
      "Try using .loc[row_indexer,col_indexer] = value instead\n",
      "\n",
      "See the caveats in the documentation: https://pandas.pydata.org/pandas-docs/stable/user_guide/indexing.html#returning-a-view-versus-a-copy\n",
      "  df4_good[\"source\"] = \"kaggle\"\n",
      "/tmp/ipykernel_3208/1032425340.py:2: SettingWithCopyWarning: \n",
      "A value is trying to be set on a copy of a slice from a DataFrame.\n",
      "Try using .loc[row_indexer,col_indexer] = value instead\n",
      "\n",
      "See the caveats in the documentation: https://pandas.pydata.org/pandas-docs/stable/user_guide/indexing.html#returning-a-view-versus-a-copy\n",
      "  df4_good[\"score\"] = df4_good[\"sentiment\"].map({\"positive\":1, \"negative\":-1, \"neutral\":0})\n"
     ]
    }
   ],
   "source": [
    "df4_good[\"source\"] = \"kaggle\"\n",
    "df4_good[\"sentiment\"] = df4_good[\"sentiment\"].map({\"positive\":1, \"negative\":-1, \"neutral\":0})"
   ]
  },
  {
   "cell_type": "code",
   "execution_count": 23,
   "id": "cd9dbe5c-2a37-4875-a014-93b5c6c0dd13",
   "metadata": {},
   "outputs": [
    {
     "name": "stderr",
     "output_type": "stream",
     "text": [
      "/tmp/ipykernel_3208/1036901112.py:1: SettingWithCopyWarning: \n",
      "A value is trying to be set on a copy of a slice from a DataFrame.\n",
      "Try using .loc[row_indexer,col_indexer] = value instead\n",
      "\n",
      "See the caveats in the documentation: https://pandas.pydata.org/pandas-docs/stable/user_guide/indexing.html#returning-a-view-versus-a-copy\n",
      "  df4_good[\"score\"] = df4_good[\"sentiment\"]\n"
     ]
    }
   ],
   "source": [
    "df4_good[\"score\"] = df4_good[\"sentiment\"]"
   ]
  },
  {
   "cell_type": "code",
   "execution_count": 16,
   "id": "fbb9b174-dfde-4509-9e87-659eeb1ab8ba",
   "metadata": {},
   "outputs": [],
   "source": [
    "df4_bad = df4[~df4[\"sentiment\"].isin(correct)]"
   ]
  },
  {
   "cell_type": "code",
   "execution_count": 26,
   "id": "d6135303-0082-4c2a-8e94-2a4c4f22baab",
   "metadata": {},
   "outputs": [],
   "source": [
    "df4_bad = df4_bad.sample(300)"
   ]
  },
  {
   "cell_type": "code",
   "execution_count": 36,
   "id": "e05bb578-30fd-4066-8893-ad486d05edc8",
   "metadata": {},
   "outputs": [],
   "source": [
    "df4_bad = df4_bad.reset_index()[[\"text\", \"sentiment\"]]"
   ]
  },
  {
   "cell_type": "code",
   "execution_count": 62,
   "id": "0eb926a4-4e3f-4b65-8df7-30bb65c6b44d",
   "metadata": {},
   "outputs": [],
   "source": [
    "df4_bad[\"source\"]=\"DeepSeek\""
   ]
  },
  {
   "cell_type": "code",
   "execution_count": 64,
   "id": "ff5788b3-8033-47f4-a3c8-0f32efe6aca1",
   "metadata": {},
   "outputs": [],
   "source": [
    "df4_bad.columns = [\"text\", \"score\", \"source\"]"
   ]
  },
  {
   "cell_type": "code",
   "execution_count": 66,
   "id": "4af8d40e-9c9e-42ce-b5fb-aa9406c05882",
   "metadata": {},
   "outputs": [
    {
     "data": {
      "text/html": [
       "<div>\n",
       "<style scoped>\n",
       "    .dataframe tbody tr th:only-of-type {\n",
       "        vertical-align: middle;\n",
       "    }\n",
       "\n",
       "    .dataframe tbody tr th {\n",
       "        vertical-align: top;\n",
       "    }\n",
       "\n",
       "    .dataframe thead th {\n",
       "        text-align: right;\n",
       "    }\n",
       "</style>\n",
       "<table border=\"1\" class=\"dataframe\">\n",
       "  <thead>\n",
       "    <tr style=\"text-align: right;\">\n",
       "      <th></th>\n",
       "      <th>text</th>\n",
       "      <th>score</th>\n",
       "      <th>source</th>\n",
       "    </tr>\n",
       "  </thead>\n",
       "  <tbody>\n",
       "    <tr>\n",
       "      <th>0</th>\n",
       "      <td>RT @MacroCharts: $SPX got within 5% of its Feb...</td>\n",
       "      <td>NaN</td>\n",
       "      <td>DeepSeek</td>\n",
       "    </tr>\n",
       "    <tr>\n",
       "      <th>1</th>\n",
       "      <td>I’d switch out a share of $AMZN to @TILT_Holdi...</td>\n",
       "      <td>NaN</td>\n",
       "      <td>DeepSeek</td>\n",
       "    </tr>\n",
       "    <tr>\n",
       "      <th>2</th>\n",
       "      <td>RT @begin_invest: Basics 😊\\n\\nVisit: https://t...</td>\n",
       "      <td>NaN</td>\n",
       "      <td>DeepSeek</td>\n",
       "    </tr>\n",
       "    <tr>\n",
       "      <th>3</th>\n",
       "      <td>Massive Q1 reserve build for JPMorgan https://...</td>\n",
       "      <td>NaN</td>\n",
       "      <td>DeepSeek</td>\n",
       "    </tr>\n",
       "    <tr>\n",
       "      <th>4</th>\n",
       "      <td>$JNJ $PFE $SPY NEWS: TRUMP TO SIGN THREE EXECU...</td>\n",
       "      <td>NaN</td>\n",
       "      <td>DeepSeek</td>\n",
       "    </tr>\n",
       "    <tr>\n",
       "      <th>...</th>\n",
       "      <td>...</td>\n",
       "      <td>...</td>\n",
       "      <td>...</td>\n",
       "    </tr>\n",
       "    <tr>\n",
       "      <th>295</th>\n",
       "      <td>RT @PoolsApp: $BYND Gets Double Downgrade at B...</td>\n",
       "      <td>NaN</td>\n",
       "      <td>DeepSeek</td>\n",
       "    </tr>\n",
       "    <tr>\n",
       "      <th>296</th>\n",
       "      <td>RT @QuotidianM: Follow the money! #Facebook is...</td>\n",
       "      <td>NaN</td>\n",
       "      <td>DeepSeek</td>\n",
       "    </tr>\n",
       "    <tr>\n",
       "      <th>297</th>\n",
       "      <td>$DIS - Daily\\n\\nFibonacci levels from Recent H...</td>\n",
       "      <td>NaN</td>\n",
       "      <td>DeepSeek</td>\n",
       "    </tr>\n",
       "    <tr>\n",
       "      <th>298</th>\n",
       "      <td>RT @NorthmanTrader: This is the greatest marke...</td>\n",
       "      <td>NaN</td>\n",
       "      <td>DeepSeek</td>\n",
       "    </tr>\n",
       "    <tr>\n",
       "      <th>299</th>\n",
       "      <td>$PEP enters an Uptrend because Momentum Indica...</td>\n",
       "      <td>NaN</td>\n",
       "      <td>DeepSeek</td>\n",
       "    </tr>\n",
       "  </tbody>\n",
       "</table>\n",
       "<p>300 rows × 3 columns</p>\n",
       "</div>"
      ],
      "text/plain": [
       "                                                  text score    source\n",
       "0    RT @MacroCharts: $SPX got within 5% of its Feb...   NaN  DeepSeek\n",
       "1    I’d switch out a share of $AMZN to @TILT_Holdi...   NaN  DeepSeek\n",
       "2    RT @begin_invest: Basics 😊\\n\\nVisit: https://t...   NaN  DeepSeek\n",
       "3    Massive Q1 reserve build for JPMorgan https://...   NaN  DeepSeek\n",
       "4    $JNJ $PFE $SPY NEWS: TRUMP TO SIGN THREE EXECU...   NaN  DeepSeek\n",
       "..                                                 ...   ...       ...\n",
       "295  RT @PoolsApp: $BYND Gets Double Downgrade at B...   NaN  DeepSeek\n",
       "296  RT @QuotidianM: Follow the money! #Facebook is...   NaN  DeepSeek\n",
       "297  $DIS - Daily\\n\\nFibonacci levels from Recent H...   NaN  DeepSeek\n",
       "298  RT @NorthmanTrader: This is the greatest marke...   NaN  DeepSeek\n",
       "299  $PEP enters an Uptrend because Momentum Indica...   NaN  DeepSeek\n",
       "\n",
       "[300 rows x 3 columns]"
      ]
     },
     "execution_count": 66,
     "metadata": {},
     "output_type": "execute_result"
    }
   ],
   "source": [
    "df4_bad"
   ]
  },
  {
   "cell_type": "code",
   "execution_count": 68,
   "id": "cff1d195-c559-45fb-a395-b08cc0f38b49",
   "metadata": {},
   "outputs": [],
   "source": [
    "sentiment_scores ={\n",
    "    101: -1.0, 102: 0.0, 103: 0.5, 104: 0.0, 105: 0.5,\n",
    "    106: 0.0, 107: 0.5, 108: -0.5, 109: 0.5, 110: 0.0,\n",
    "    111: 0.5, 112: 0.5, 113: 0.5, 114: -0.5, 115: 0.5,\n",
    "    116: 0.0, 117: 0.5, 118: 0.0, 119: -0.5, 120: 0.5,\n",
    "    121: -0.5, 122: 0.0, 123: 0.0, 124: -0.5, 125: 0.0,\n",
    "    126: -0.5, 127: 0.5, 128: 0.0, 129: 0.5, 130: 0.0,\n",
    "    131: -0.5, 132: 0.5, 133: 0.5, 134: 0.0, 135: 0.5,\n",
    "    136: -0.5, 137: 0.5, 138: 0.0, 139: 0.0, 140: 0.0,\n",
    "    141: 0.5, 142: 1.0, 143: 0.0, 144: 0.5, 145: 0.0,\n",
    "    146: 0.0, 147: 0.5, 148: 0.0, 149: -0.5, 150: 0.5,\n",
    "    151: 0.0, 152: -0.5, 153: 0.5, 154: 0.0, 155: 0.0,\n",
    "    156: -0.5, 157: 0.0, 158: -0.5, 159: 0.0, 160: -1.0,\n",
    "    161: 0.0, 162: -0.5, 163: -1.0, 164: 0.0, 165: 0.0,\n",
    "    166: 0.0, 167: 0.0, 168: 0.0, 169: -0.5, 170: 0.0,\n",
    "    171: -0.5, 172: 0.0, 173: -0.5, 174: 0.0, 175: -1.0,\n",
    "    176: 0.5, 177: 0.0, 178: 0.5, 179: 0.0, 180: 0.0,\n",
    "    181: 0.0, 182: 0.0, 183: 0.0, 184: 0.0, 185: 0.0,\n",
    "    186: 0.0, 187: 0.5, 188: 0.0, 189: 0.5, 190: 0.0,\n",
    "    191: -0.5, 192: 0.0, 193: 0.0, 194: -0.5, 195: 0.0,\n",
    "    196: 0.5, 197: 0.0, 198: 0.0, 199: 0.5, 200: 0.0,\n",
    "        0: -0.5, 1: -0.5, 2: 0, 3: 1, 4: -0.5, 5: 0, 6: -0.5, 7: 1, 8: 0.5, 9: -1,\n",
    "    10: 0, 11: 0, 12: 0, 13: 0, 14: 0.5, 15: -0.5, 16: 0, 17: 0.5, 18: 0, 19: 0.5,\n",
    "    20: 0.5, 21: 0.5, 22: -0.5, 23: 0, 24: -0.5, 25: 0, 26: -0.5, 27: -1, 28: -0.5,\n",
    "    29: 0, 30: 0.5, 31: 0.5, 32: 0.5, 33: -0.5, 34: 0.5, 35: 0.5, 36: -1, 37: 0,\n",
    "    38: 0, 39: -1, 40: 0, 41: 0, 42: -1, 43: 0, 44: 0, 45: 0, 46: 0, 47: 0.5,\n",
    "    48: -0.5, 49: -0.5, 50: 0, 51: 0, 52: -0.5, 53: 0.5, 54: -0.5, 55: 0, 56: 0.5,\n",
    "    57: 0.5, 58: 0, 59: 0.5, 60: 0, 61: -0.5, 62: -0.5, 63: 0.5, 64: 0.5, 65: -1,\n",
    "    66: 1, 67: 0.5, 68: -1, 69: 0, 70: 0, 71: -0.5, 72: 0.5, 73: 0.5, 74: 0, 75: 0,\n",
    "    76: 0.5, 77: 0, 78: 0.5, 79: 0, 80: 0, 81: -0.5, 82: -0.5, 83: -0.5, 84: 0.5,\n",
    "    85: 0, 86: 0.5, 87: 0.5, 88: 0, 89: 0, 90: 0.5, 91: 0.5, 92: -0.5, 93: 0, 94: 1,\n",
    "    95: -0.5, 96: 0.5, 97: 0.5, 98: 0.5, 99: -1, 100: 1,\n",
    "    201: 0.0,     # Factual tech update\n",
    "    202: 0.5,     # 8% gain celebration\n",
    "    203: 0.0,     # Market data sharing\n",
    "    204: 0.5,     # Oil trade optimism\n",
    "    205: 0.0,     # Neutral indicators\n",
    "    206: -0.5,    # Bearish coordination attempt\n",
    "    207: 0.5,     # Buy rating\n",
    "    208: -0.5,    # Put options activity\n",
    "    209: 0.0,     # Market terminology\n",
    "    210: 0.0,     # Motivational RT\n",
    "    211: -0.5,    # Negative earnings forecast\n",
    "    212: 0.5,     # Performance improvement\n",
    "    213: 1.0,     # Extreme optimism\n",
    "    214: 0.5,     # Outperformance claim\n",
    "    215: 0.0,     # Stock mention\n",
    "    216: -0.5,    # Major shareholder selloff\n",
    "    217: 0.5,     # Price target raise\n",
    "    218: 0.5,     # Positive earnings expectation\n",
    "    219: 0.0,     # Generic market content\n",
    "    220: 0.0,     # Earnings calendar\n",
    "    221: 0.5,     # Pro-stocks argument\n",
    "    222: -0.5,    # Valuation criticism\n",
    "    223: 0.0,     # Neutral business update\n",
    "    224: 0.5,     # Profitable sector highlight\n",
    "    225: 0.0,     # Analytical observation\n",
    "    226: 0.0,     # Sentiment discussion\n",
    "    227: 0.0,     # Gold market analysis\n",
    "    228: 0.0,     # Jobs mention\n",
    "    229: 0.0,     # Advertisement\n",
    "    230: 0.0,     # Biotech RT\n",
    "    231: 1.0,     # Strong portfolio performance\n",
    "    232: -0.5,    # Negative trend detection\n",
    "    233: 0.5,     # Gain celebration\n",
    "    234: 0.0,     # Volatility RT\n",
    "    235: 0.5,     # Positive tech development\n",
    "    236: -1.0,    # Worker death report\n",
    "    237: -0.5,    # Pullback warning\n",
    "    238: -1.0,    # Massive legal loss\n",
    "    239: -0.5,    # Risky calls\n",
    "    240: 1.0,     # Market-moving news\n",
    "    241: 0.5,     # Revenue/buyback positive\n",
    "    242: 0.0,     # Content creator praise\n",
    "    243: 0.0,     # Earnings prediction\n",
    "    244: -1.0,    # Layoff shock\n",
    "    245: -0.5,    # Brand controversy\n",
    "    246: 0.5,     # Profit announcement\n",
    "    247: 0.0,     # Entry point statement\n",
    "    248: 0.0,     # Market structure analysis\n",
    "    249: 0.0,     # Sales expectation\n",
    "    250: 0.5,     # Trading success\n",
    "    251: 0.0,     # Fundamental analysis\n",
    "    252: 0.5,     # Profitable options trade\n",
    "    253: 0.0,     # Index comparison\n",
    "    254: 0.5,     # Market rise\n",
    "    255: 0.5,     # Forex optimism\n",
    "    256: -0.5,    # Bearish prediction\n",
    "    257: 0.5,     # Growth potential\n",
    "    258: 0.5,     # Price speculation\n",
    "    259: 0.0,     # Position management\n",
    "    260: -0.5,    # Revenue decline\n",
    "    261: 0.0,     # Market irony\n",
    "    262: 0.0,     # Motivational\n",
    "    263: -0.5,    # Store closures\n",
    "    264: 0.0,     # Technical analysis\n",
    "    265: 0.0,     # Options data\n",
    "    266: -0.5,    # Supply chain issue\n",
    "    267: -0.5,    # Bearish outlook\n",
    "    268: 0.5,     # Strategic acquisition\n",
    "    269: 0.0,     # Economic discussion\n",
    "    270: -0.5,    # Bubble warning\n",
    "    271: 0.0,     # Chat promotion\n",
    "    272: 0.5,     # Growth speculation\n",
    "    273: 0.5,     # EV optimism\n",
    "    274: 0.5,     # Target raise\n",
    "    275: 0.0,     # News dismissal\n",
    "    276: 0.0,     # Market share data\n",
    "    277: 0.0,     # Tracking notice\n",
    "    278: 0.0,     # Mixed biotech news\n",
    "    279: 0.0,     # Appearance announcement\n",
    "    280: -0.5,    # Government criticism\n",
    "    281: 0.5,     # Rally prediction\n",
    "    282: 0.0,     # Mixed trade results\n",
    "    283: -1.0,    # Legal investigation\n",
    "    284: 0.0,     # Technical entry\n",
    "    285: 0.0,     # Earnings forecast\n",
    "    286: -0.5,    # Price decline\n",
    "    287: -0.5,    # Management suspicion\n",
    "    288: 0.0,     # Gap analysis\n",
    "    289: 0.5,     # Successful prediction\n",
    "    290: -0.5,    # Market skepticism\n",
    "    291: 0.0,     # Coverage initiation\n",
    "    292: 0.0,     # Unsubstantiated news\n",
    "    293: 0.0,     # Economic observation\n",
    "    294: -0.5,    # Bearish prediction\n",
    "    295: -0.5,    # Downgrade\n",
    "    296: 0.5,     # Business tool positivity\n",
    "    297: 0.0,     # Technical levels\n",
    "    298: -0.5,    # Market criticism\n",
    "    299: 0.5      # Uptrend confirmation\n",
    "}\n"
   ]
  },
  {
   "cell_type": "code",
   "execution_count": 77,
   "id": "6601b8cf-8d87-4827-aa59-5c63b402248a",
   "metadata": {},
   "outputs": [],
   "source": [
    "for idx, row in enumerate(df4_bad.itertuples()):\n",
    "    score = sentiment_scores[idx]\n",
    "    # print(row[1], score)\n",
    "    df4_bad.at[idx, 'score'] = score\n",
    "    # break"
   ]
  },
  {
   "cell_type": "code",
   "execution_count": 79,
   "id": "cf0cd0e5-ecf7-4704-bf6d-33a3b051f5bc",
   "metadata": {},
   "outputs": [],
   "source": [
    "df_final = pd.concat([df_combined, df4_good, df4_bad], ignore_index=True)"
   ]
  },
  {
   "cell_type": "code",
   "execution_count": 82,
   "id": "a6e255f6-17c7-4fe4-a419-c06d54736f07",
   "metadata": {},
   "outputs": [],
   "source": [
    "df_final = df_final[['text', 'score', 'source']]"
   ]
  },
  {
   "cell_type": "code",
   "execution_count": 94,
   "id": "78286212-02fe-4f80-a860-2932e57c74eb",
   "metadata": {},
   "outputs": [],
   "source": [
    "from sklearn.model_selection import train_test_split\n",
    "\n",
    "train_df, test_df = train_test_split(df_final, test_size=0.12, random_state=15)\n",
    "\n"
   ]
  },
  {
   "cell_type": "code",
   "execution_count": 108,
   "id": "f106d4cd-7ba9-4584-a406-08ea51a51a55",
   "metadata": {},
   "outputs": [],
   "source": [
    "train_df = train_df.reset_index(drop=True)\n",
    "test_df = test_df.reset_index(drop=True)\n",
    "train_df.dropna(subset=[\"score\"], inplace=True)\n",
    "test_df.dropna(subset=[\"score\"], inplace=True)"
   ]
  },
  {
   "cell_type": "code",
   "execution_count": 110,
   "id": "b38c885d-b926-4d59-9ebe-b2368483c875",
   "metadata": {},
   "outputs": [],
   "source": [
    "train_df[\"score\"] = pd.to_numeric(train_df[\"score\"], errors=\"coerce\")\n",
    "test_df[\"score\"] = pd.to_numeric(test_df[\"score\"], errors=\"coerce\")"
   ]
  },
  {
   "cell_type": "code",
   "execution_count": 112,
   "id": "17ab1d83-d29c-4425-9c7d-4600c07d058d",
   "metadata": {},
   "outputs": [],
   "source": [
    "train_df.to_csv('/home/ginger/code/gderiddershanghai/DVA_Team_173/data_full/training_data/train_df.csv',  index=False)\n",
    "test_df.to_csv('/home/ginger/code/gderiddershanghai/DVA_Team_173/data_full/training_data/test_df.csv',  index=False)"
   ]
  },
  {
   "cell_type": "code",
   "execution_count": 103,
   "id": "e86f4917-bd44-4403-b90e-42b1ec4432a3",
   "metadata": {},
   "outputs": [
    {
     "data": {
      "text/plain": [
       "text      0\n",
       "score     0\n",
       "source    0\n",
       "dtype: int64"
      ]
     },
     "execution_count": 103,
     "metadata": {},
     "output_type": "execute_result"
    }
   ],
   "source": [
    "test_df.isnull().sum()"
   ]
  },
  {
   "cell_type": "code",
   "execution_count": 111,
   "id": "d68399bf-2ec0-47c9-9534-021eb20eb6ee",
   "metadata": {},
   "outputs": [
    {
     "name": "stdout",
     "output_type": "stream",
     "text": [
      "<class 'pandas.core.frame.DataFrame'>\n",
      "Int64Index: 21203 entries, 0 to 21207\n",
      "Data columns (total 3 columns):\n",
      " #   Column  Non-Null Count  Dtype  \n",
      "---  ------  --------------  -----  \n",
      " 0   text    21203 non-null  object \n",
      " 1   score   21203 non-null  float64\n",
      " 2   source  21203 non-null  object \n",
      "dtypes: float64(1), object(2)\n",
      "memory usage: 662.6+ KB\n"
     ]
    }
   ],
   "source": [
    "train_df.info()"
   ]
  },
  {
   "cell_type": "code",
   "execution_count": 113,
   "id": "644aba58-c65c-4b88-a3a2-7164273256b0",
   "metadata": {},
   "outputs": [
    {
     "data": {
      "text/html": [
       "<div>\n",
       "<style scoped>\n",
       "    .dataframe tbody tr th:only-of-type {\n",
       "        vertical-align: middle;\n",
       "    }\n",
       "\n",
       "    .dataframe tbody tr th {\n",
       "        vertical-align: top;\n",
       "    }\n",
       "\n",
       "    .dataframe thead th {\n",
       "        text-align: right;\n",
       "    }\n",
       "</style>\n",
       "<table border=\"1\" class=\"dataframe\">\n",
       "  <thead>\n",
       "    <tr style=\"text-align: right;\">\n",
       "      <th></th>\n",
       "      <th>text</th>\n",
       "      <th>score</th>\n",
       "      <th>source</th>\n",
       "    </tr>\n",
       "  </thead>\n",
       "  <tbody>\n",
       "    <tr>\n",
       "      <th>0</th>\n",
       "      <td>RT @palewire: IBM, Braintree and a branch of t...</td>\n",
       "      <td>-0.250000</td>\n",
       "      <td>IEEE</td>\n",
       "    </tr>\n",
       "    <tr>\n",
       "      <th>1</th>\n",
       "      <td>LED 78 , UHD Curved, Smart TV, Quad Core Samsu...</td>\n",
       "      <td>-0.316667</td>\n",
       "      <td>IEEE</td>\n",
       "    </tr>\n",
       "    <tr>\n",
       "      <th>2</th>\n",
       "      <td>RT @EdKrassen: Watching Dr. Ford begin to cry ...</td>\n",
       "      <td>0.500000</td>\n",
       "      <td>IEEE</td>\n",
       "    </tr>\n",
       "    <tr>\n",
       "      <th>3</th>\n",
       "      <td>RT @Jali_Cat: ‼️Dr. Ford has indicated to Repu...</td>\n",
       "      <td>0.285714</td>\n",
       "      <td>IEEE</td>\n",
       "    </tr>\n",
       "    <tr>\n",
       "      <th>4</th>\n",
       "      <td>RT @theoutfithaven: Now Available: Nike Air Va...</td>\n",
       "      <td>0.450000</td>\n",
       "      <td>IEEE</td>\n",
       "    </tr>\n",
       "    <tr>\n",
       "      <th>...</th>\n",
       "      <td>...</td>\n",
       "      <td>...</td>\n",
       "      <td>...</td>\n",
       "    </tr>\n",
       "    <tr>\n",
       "      <th>2887</th>\n",
       "      <td>RT @Delavegalaw: Dr. Christine Blasey Ford is ...</td>\n",
       "      <td>0.000000</td>\n",
       "      <td>IEEE</td>\n",
       "    </tr>\n",
       "    <tr>\n",
       "      <th>2888</th>\n",
       "      <td>RT @The_Trump_Train: RETWEET if Nike lost you ...</td>\n",
       "      <td>0.000000</td>\n",
       "      <td>IEEE</td>\n",
       "    </tr>\n",
       "    <tr>\n",
       "      <th>2889</th>\n",
       "      <td>RT @BridgetPhetasy: The best part about this i...</td>\n",
       "      <td>-0.169643</td>\n",
       "      <td>IEEE</td>\n",
       "    </tr>\n",
       "    <tr>\n",
       "      <th>2890</th>\n",
       "      <td>RT @TheeFinanceGuy: 🚨It's Time! 🚨\\n\\nRapid Fir...</td>\n",
       "      <td>1.000000</td>\n",
       "      <td>kaggle</td>\n",
       "    </tr>\n",
       "    <tr>\n",
       "      <th>2891</th>\n",
       "      <td>Sheriff: Man stuffed steaks in pants, fled Wal...</td>\n",
       "      <td>0.000000</td>\n",
       "      <td>IEEE</td>\n",
       "    </tr>\n",
       "  </tbody>\n",
       "</table>\n",
       "<p>2892 rows × 3 columns</p>\n",
       "</div>"
      ],
      "text/plain": [
       "                                                   text     score  source\n",
       "0     RT @palewire: IBM, Braintree and a branch of t... -0.250000    IEEE\n",
       "1     LED 78 , UHD Curved, Smart TV, Quad Core Samsu... -0.316667    IEEE\n",
       "2     RT @EdKrassen: Watching Dr. Ford begin to cry ...  0.500000    IEEE\n",
       "3     RT @Jali_Cat: ‼️Dr. Ford has indicated to Repu...  0.285714    IEEE\n",
       "4     RT @theoutfithaven: Now Available: Nike Air Va...  0.450000    IEEE\n",
       "...                                                 ...       ...     ...\n",
       "2887  RT @Delavegalaw: Dr. Christine Blasey Ford is ...  0.000000    IEEE\n",
       "2888  RT @The_Trump_Train: RETWEET if Nike lost you ...  0.000000    IEEE\n",
       "2889  RT @BridgetPhetasy: The best part about this i... -0.169643    IEEE\n",
       "2890  RT @TheeFinanceGuy: 🚨It's Time! 🚨\\n\\nRapid Fir...  1.000000  kaggle\n",
       "2891  Sheriff: Man stuffed steaks in pants, fled Wal...  0.000000    IEEE\n",
       "\n",
       "[2892 rows x 3 columns]"
      ]
     },
     "execution_count": 113,
     "metadata": {},
     "output_type": "execute_result"
    }
   ],
   "source": [
    "test_df"
   ]
  },
  {
   "cell_type": "code",
   "execution_count": 120,
   "id": "323c2b6d-3a50-4fca-9b60-1f366c9d54d2",
   "metadata": {},
   "outputs": [],
   "source": [
    "test_fp = '/home/ginger/code/gderiddershanghai/DVA_Team_173/data_full/training_data/test_df.csv'\n",
    "test_df = pd.read_csv(test_fp)"
   ]
  },
  {
   "cell_type": "code",
   "execution_count": 122,
   "id": "33a1a1fb-7fc7-4174-adaa-05373b960755",
   "metadata": {},
   "outputs": [],
   "source": [
    "test_fp2 = '/home/ginger/code/gderiddershanghai/DVA_Team_173/test_results.csv'\n",
    "test_df2 = pd.read_csv(test_fp2)"
   ]
  },
  {
   "cell_type": "code",
   "execution_count": 125,
   "id": "9fec90cc-4cb1-468f-b980-e15c35e52b5c",
   "metadata": {},
   "outputs": [],
   "source": [
    "test_df[\"absolute_error\"] = test_df2[\"absolute_error\"]"
   ]
  },
  {
   "cell_type": "code",
   "execution_count": 131,
   "id": "2d6ba518-44cd-4f44-9719-441528e6bcf6",
   "metadata": {},
   "outputs": [
    {
     "data": {
      "text/html": [
       "<div>\n",
       "<style scoped>\n",
       "    .dataframe tbody tr th:only-of-type {\n",
       "        vertical-align: middle;\n",
       "    }\n",
       "\n",
       "    .dataframe tbody tr th {\n",
       "        vertical-align: top;\n",
       "    }\n",
       "\n",
       "    .dataframe thead th {\n",
       "        text-align: right;\n",
       "    }\n",
       "</style>\n",
       "<table border=\"1\" class=\"dataframe\">\n",
       "  <thead>\n",
       "    <tr style=\"text-align: right;\">\n",
       "      <th></th>\n",
       "      <th>score</th>\n",
       "      <th>absolute_error</th>\n",
       "    </tr>\n",
       "    <tr>\n",
       "      <th>source</th>\n",
       "      <th></th>\n",
       "      <th></th>\n",
       "    </tr>\n",
       "  </thead>\n",
       "  <tbody>\n",
       "    <tr>\n",
       "      <th>DeepSeek</th>\n",
       "      <td>0.045455</td>\n",
       "      <td>0.579250</td>\n",
       "    </tr>\n",
       "    <tr>\n",
       "      <th>IEEE</th>\n",
       "      <td>0.086918</td>\n",
       "      <td>0.130859</td>\n",
       "    </tr>\n",
       "    <tr>\n",
       "      <th>kaggle</th>\n",
       "      <td>0.106250</td>\n",
       "      <td>0.440025</td>\n",
       "    </tr>\n",
       "  </tbody>\n",
       "</table>\n",
       "</div>"
      ],
      "text/plain": [
       "             score  absolute_error\n",
       "source                            \n",
       "DeepSeek  0.045455        0.579250\n",
       "IEEE      0.086918        0.130859\n",
       "kaggle    0.106250        0.440025"
      ]
     },
     "execution_count": 131,
     "metadata": {},
     "output_type": "execute_result"
    }
   ],
   "source": [
    "test_df.groupby('source').mean()"
   ]
  }
 ],
 "metadata": {
  "kernelspec": {
   "display_name": "Python 3 (ipykernel)",
   "language": "python",
   "name": "python3"
  },
  "language_info": {
   "codemirror_mode": {
    "name": "ipython",
    "version": 3
   },
   "file_extension": ".py",
   "mimetype": "text/x-python",
   "name": "python",
   "nbconvert_exporter": "python",
   "pygments_lexer": "ipython3",
   "version": "3.10.6"
  }
 },
 "nbformat": 4,
 "nbformat_minor": 5
}
