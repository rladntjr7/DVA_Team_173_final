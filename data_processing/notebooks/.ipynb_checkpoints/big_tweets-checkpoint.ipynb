{
 "cells": [
  {
   "cell_type": "code",
   "execution_count": 2,
   "id": "b76f87eb-f825-437f-8933-a97caab1a7f7",
   "metadata": {},
   "outputs": [],
   "source": [
    "import pandas as pd\n",
    "import numpy as np\n",
    "from datetime import datetime\n",
    "import string"
   ]
  },
  {
   "cell_type": "code",
   "execution_count": 8,
   "id": "67eacdd0-5d8a-46a9-87fc-b3720ec6486d",
   "metadata": {},
   "outputs": [
    {
     "name": "stdout",
     "output_type": "stream",
     "text": [
      "Company.csv  Company_Tweet.csv\tTweet.csv\n"
     ]
    }
   ],
   "source": [
    "!ls ../data_full/raw/big_twitter  "
   ]
  },
  {
   "cell_type": "code",
   "execution_count": 13,
   "id": "e716ad51-37ad-4b8d-b84c-39ee53108645",
   "metadata": {},
   "outputs": [],
   "source": [
    "fp_company = \"../../data_full/raw/big_twitter/Company.csv\"\n",
    "df_company = pd.read_csv(fp_company)\n"
   ]
  },
  {
   "cell_type": "code",
   "execution_count": 17,
   "id": "b4a0ef52-ab7b-4539-8e49-6511d77a5e2d",
   "metadata": {},
   "outputs": [
    {
     "data": {
      "text/html": [
       "<div>\n",
       "<style scoped>\n",
       "    .dataframe tbody tr th:only-of-type {\n",
       "        vertical-align: middle;\n",
       "    }\n",
       "\n",
       "    .dataframe tbody tr th {\n",
       "        vertical-align: top;\n",
       "    }\n",
       "\n",
       "    .dataframe thead th {\n",
       "        text-align: right;\n",
       "    }\n",
       "</style>\n",
       "<table border=\"1\" class=\"dataframe\">\n",
       "  <thead>\n",
       "    <tr style=\"text-align: right;\">\n",
       "      <th></th>\n",
       "      <th>ticker_symbol</th>\n",
       "      <th>company_name</th>\n",
       "    </tr>\n",
       "  </thead>\n",
       "  <tbody>\n",
       "    <tr>\n",
       "      <th>0</th>\n",
       "      <td>AAPL</td>\n",
       "      <td>apple</td>\n",
       "    </tr>\n",
       "    <tr>\n",
       "      <th>1</th>\n",
       "      <td>GOOG</td>\n",
       "      <td>Google Inc</td>\n",
       "    </tr>\n",
       "    <tr>\n",
       "      <th>2</th>\n",
       "      <td>GOOGL</td>\n",
       "      <td>Google Inc</td>\n",
       "    </tr>\n",
       "    <tr>\n",
       "      <th>3</th>\n",
       "      <td>AMZN</td>\n",
       "      <td>Amazon.com</td>\n",
       "    </tr>\n",
       "    <tr>\n",
       "      <th>4</th>\n",
       "      <td>TSLA</td>\n",
       "      <td>Tesla Inc</td>\n",
       "    </tr>\n",
       "    <tr>\n",
       "      <th>5</th>\n",
       "      <td>MSFT</td>\n",
       "      <td>Microsoft</td>\n",
       "    </tr>\n",
       "  </tbody>\n",
       "</table>\n",
       "</div>"
      ],
      "text/plain": [
       "  ticker_symbol company_name\n",
       "0          AAPL        apple\n",
       "1          GOOG   Google Inc\n",
       "2         GOOGL   Google Inc\n",
       "3          AMZN   Amazon.com\n",
       "4          TSLA    Tesla Inc\n",
       "5          MSFT    Microsoft"
      ]
     },
     "execution_count": 17,
     "metadata": {},
     "output_type": "execute_result"
    }
   ],
   "source": [
    "df_company"
   ]
  },
  {
   "cell_type": "code",
   "execution_count": 16,
   "id": "b18a5184-eb3f-49b1-9ac3-ec4a5d6759fd",
   "metadata": {},
   "outputs": [
    {
     "data": {
      "text/plain": [
       "{'Amazon.com', 'Google Inc', 'Microsoft', 'Tesla Inc', 'apple'}"
      ]
     },
     "execution_count": 16,
     "metadata": {},
     "output_type": "execute_result"
    }
   ],
   "source": [
    "set(df_company[\"company_name\"])"
   ]
  },
  {
   "cell_type": "code",
   "execution_count": 12,
   "id": "8864f84b-0984-465c-82a6-279bc7222741",
   "metadata": {},
   "outputs": [
    {
     "data": {
      "text/plain": [
       "(3717964, 7)"
      ]
     },
     "execution_count": 12,
     "metadata": {},
     "output_type": "execute_result"
    }
   ],
   "source": [
    "df_company.shape"
   ]
  },
  {
   "cell_type": "code",
   "execution_count": 6,
   "id": "83b44c06-8ef1-48d6-b581-1f084bd53d28",
   "metadata": {},
   "outputs": [],
   "source": [
    "fp = \"/home/ginger/code/gderiddershanghai/DVA_Team_173/data_full/raw/twitter_data/big_twitter/big_filtered.csv\"\n",
    "df = pd.read_csv(fp)\n"
   ]
  },
  {
   "cell_type": "code",
   "execution_count": 7,
   "id": "7ae5dea5-db8d-4201-acc3-627c361e487a",
   "metadata": {},
   "outputs": [
    {
     "data": {
      "text/html": [
       "<div>\n",
       "<style scoped>\n",
       "    .dataframe tbody tr th:only-of-type {\n",
       "        vertical-align: middle;\n",
       "    }\n",
       "\n",
       "    .dataframe tbody tr th {\n",
       "        vertical-align: top;\n",
       "    }\n",
       "\n",
       "    .dataframe thead th {\n",
       "        text-align: right;\n",
       "    }\n",
       "</style>\n",
       "<table border=\"1\" class=\"dataframe\">\n",
       "  <thead>\n",
       "    <tr style=\"text-align: right;\">\n",
       "      <th></th>\n",
       "      <th>Unnamed: 0</th>\n",
       "      <th>tweet_id</th>\n",
       "      <th>writer</th>\n",
       "      <th>post_date</th>\n",
       "      <th>body</th>\n",
       "      <th>comment_num</th>\n",
       "      <th>retweet_num</th>\n",
       "      <th>like_num</th>\n",
       "      <th>ticker_symbol</th>\n",
       "      <th>company_name</th>\n",
       "      <th>Created_at</th>\n",
       "      <th>Source</th>\n",
       "      <th>Tweet</th>\n",
       "      <th>Stock_ticker</th>\n",
       "      <th>Company_name</th>\n",
       "    </tr>\n",
       "  </thead>\n",
       "  <tbody>\n",
       "    <tr>\n",
       "      <th>0</th>\n",
       "      <td>1850587</td>\n",
       "      <td>825493957974953984</td>\n",
       "      <td>App_sw_</td>\n",
       "      <td>1485648071</td>\n",
       "      <td>Google and Yahoo are dodging warrants after #M...</td>\n",
       "      <td>0</td>\n",
       "      <td>0</td>\n",
       "      <td>0</td>\n",
       "      <td>MSFT</td>\n",
       "      <td>Microsoft</td>\n",
       "      <td>2017-01-29 00:01:11</td>\n",
       "      <td>Ginger</td>\n",
       "      <td>Google and Yahoo are dodging warrants after #M...</td>\n",
       "      <td>MSFT</td>\n",
       "      <td>Microsoft</td>\n",
       "    </tr>\n",
       "    <tr>\n",
       "      <th>1</th>\n",
       "      <td>1850588</td>\n",
       "      <td>825494113214541826</td>\n",
       "      <td>App_sw_</td>\n",
       "      <td>1485648108</td>\n",
       "      <td>Apple, #Microsoft and Uber help staff stranded...</td>\n",
       "      <td>0</td>\n",
       "      <td>0</td>\n",
       "      <td>0</td>\n",
       "      <td>MSFT</td>\n",
       "      <td>Microsoft</td>\n",
       "      <td>2017-01-29 00:01:48</td>\n",
       "      <td>Ginger</td>\n",
       "      <td>Apple, #Microsoft and Uber help staff stranded...</td>\n",
       "      <td>MSFT</td>\n",
       "      <td>Microsoft</td>\n",
       "    </tr>\n",
       "    <tr>\n",
       "      <th>2</th>\n",
       "      <td>1850589</td>\n",
       "      <td>825494271029452800</td>\n",
       "      <td>Ev_Investor</td>\n",
       "      <td>1485648145</td>\n",
       "      <td>Didn't notice suppliers stock tanked? Tesla ju...</td>\n",
       "      <td>0</td>\n",
       "      <td>0</td>\n",
       "      <td>0</td>\n",
       "      <td>TSLA</td>\n",
       "      <td>Tesla Inc</td>\n",
       "      <td>2017-01-29 00:02:25</td>\n",
       "      <td>Ginger</td>\n",
       "      <td>Didn't notice suppliers stock tanked? Tesla ju...</td>\n",
       "      <td>TSLA</td>\n",
       "      <td>Tesla Inc</td>\n",
       "    </tr>\n",
       "    <tr>\n",
       "      <th>3</th>\n",
       "      <td>1850590</td>\n",
       "      <td>825494273529307136</td>\n",
       "      <td>It_c0nsulting</td>\n",
       "      <td>1485648146</td>\n",
       "      <td>#Google adds more editing capabilities to Docs...</td>\n",
       "      <td>0</td>\n",
       "      <td>0</td>\n",
       "      <td>0</td>\n",
       "      <td>GOOG</td>\n",
       "      <td>Google Inc</td>\n",
       "      <td>2017-01-29 00:02:26</td>\n",
       "      <td>Ginger</td>\n",
       "      <td>#Google adds more editing capabilities to Docs...</td>\n",
       "      <td>GOOG</td>\n",
       "      <td>Google Inc</td>\n",
       "    </tr>\n",
       "    <tr>\n",
       "      <th>4</th>\n",
       "      <td>1850591</td>\n",
       "      <td>825495206011166723</td>\n",
       "      <td>App_sw_</td>\n",
       "      <td>1485648368</td>\n",
       "      <td>#Microsoft, HP Team Up For Social Impact Hacka...</td>\n",
       "      <td>0</td>\n",
       "      <td>0</td>\n",
       "      <td>0</td>\n",
       "      <td>MSFT</td>\n",
       "      <td>Microsoft</td>\n",
       "      <td>2017-01-29 00:06:08</td>\n",
       "      <td>Ginger</td>\n",
       "      <td>#Microsoft, HP Team Up For Social Impact Hacka...</td>\n",
       "      <td>MSFT</td>\n",
       "      <td>Microsoft</td>\n",
       "    </tr>\n",
       "  </tbody>\n",
       "</table>\n",
       "</div>"
      ],
      "text/plain": [
       "   Unnamed: 0            tweet_id         writer   post_date  \\\n",
       "0     1850587  825493957974953984        App_sw_  1485648071   \n",
       "1     1850588  825494113214541826        App_sw_  1485648108   \n",
       "2     1850589  825494271029452800    Ev_Investor  1485648145   \n",
       "3     1850590  825494273529307136  It_c0nsulting  1485648146   \n",
       "4     1850591  825495206011166723        App_sw_  1485648368   \n",
       "\n",
       "                                                body  comment_num  \\\n",
       "0  Google and Yahoo are dodging warrants after #M...            0   \n",
       "1  Apple, #Microsoft and Uber help staff stranded...            0   \n",
       "2  Didn't notice suppliers stock tanked? Tesla ju...            0   \n",
       "3  #Google adds more editing capabilities to Docs...            0   \n",
       "4  #Microsoft, HP Team Up For Social Impact Hacka...            0   \n",
       "\n",
       "   retweet_num  like_num ticker_symbol company_name           Created_at  \\\n",
       "0            0         0          MSFT    Microsoft  2017-01-29 00:01:11   \n",
       "1            0         0          MSFT    Microsoft  2017-01-29 00:01:48   \n",
       "2            0         0          TSLA    Tesla Inc  2017-01-29 00:02:25   \n",
       "3            0         0          GOOG   Google Inc  2017-01-29 00:02:26   \n",
       "4            0         0          MSFT    Microsoft  2017-01-29 00:06:08   \n",
       "\n",
       "   Source                                              Tweet Stock_ticker  \\\n",
       "0  Ginger  Google and Yahoo are dodging warrants after #M...         MSFT   \n",
       "1  Ginger  Apple, #Microsoft and Uber help staff stranded...         MSFT   \n",
       "2  Ginger  Didn't notice suppliers stock tanked? Tesla ju...         TSLA   \n",
       "3  Ginger  #Google adds more editing capabilities to Docs...         GOOG   \n",
       "4  Ginger  #Microsoft, HP Team Up For Social Impact Hacka...         MSFT   \n",
       "\n",
       "  Company_name  \n",
       "0    Microsoft  \n",
       "1    Microsoft  \n",
       "2    Tesla Inc  \n",
       "3   Google Inc  \n",
       "4    Microsoft  "
      ]
     },
     "execution_count": 7,
     "metadata": {},
     "output_type": "execute_result"
    }
   ],
   "source": [
    "df.head()"
   ]
  },
  {
   "cell_type": "code",
   "execution_count": 9,
   "id": "fc4bd561-5261-4ae5-a9f9-4ca3548bb492",
   "metadata": {},
   "outputs": [],
   "source": [
    "df = df[['Tweet', 'Stock_ticker', 'Company_name', 'Created_at', 'Source']]"
   ]
  },
  {
   "cell_type": "code",
   "execution_count": 22,
   "id": "a8180d2f-a176-4cfd-95bf-daebfea9ec75",
   "metadata": {},
   "outputs": [],
   "source": [
    "df.drop_duplicates(subset=['Tweet', 'Stock_ticker'], inplace=True)"
   ]
  },
  {
   "cell_type": "code",
   "execution_count": 23,
   "id": "fd7d49bb-61a6-40f6-8d73-4fe2e65fb1c8",
   "metadata": {},
   "outputs": [],
   "source": [
    "df['Source'] = 'Large Dataset Ginger https://www.kaggle.com/datasets/omermetinn/tweets-about-the-top-companies-from-2015-to-2020'"
   ]
  },
  {
   "cell_type": "code",
   "execution_count": 24,
   "id": "64f1d4b0-cdba-4f50-b1ac-ac8da12fee3a",
   "metadata": {},
   "outputs": [],
   "source": [
    "output_fp = '/home/ginger/code/gderiddershanghai/DVA_Team_173/data_full/processed/large_dataset_UNLABELLED.csv'\n",
    "df.to_csv(output_fp, index=False)"
   ]
  },
  {
   "cell_type": "code",
   "execution_count": null,
   "id": "7d8665b3-a9c5-47da-b5f7-956ace92c1cd",
   "metadata": {},
   "outputs": [],
   "source": []
  }
 ],
 "metadata": {
  "kernelspec": {
   "display_name": "Python 3 (ipykernel)",
   "language": "python",
   "name": "python3"
  },
  "language_info": {
   "codemirror_mode": {
    "name": "ipython",
    "version": 3
   },
   "file_extension": ".py",
   "mimetype": "text/x-python",
   "name": "python",
   "nbconvert_exporter": "python",
   "pygments_lexer": "ipython3",
   "version": "3.10.6"
  }
 },
 "nbformat": 4,
 "nbformat_minor": 5
}
