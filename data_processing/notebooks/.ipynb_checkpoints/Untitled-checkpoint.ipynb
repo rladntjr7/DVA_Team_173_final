{
 "cells": [
  {
   "cell_type": "code",
   "execution_count": 33,
   "id": "18153319-6b26-494f-bc1c-ef85ad904021",
   "metadata": {},
   "outputs": [],
   "source": [
    "import numpy as np"
   ]
  },
  {
   "cell_type": "code",
   "execution_count": 40,
   "id": "5593d44f-6ccc-41e7-bcc7-94cda0f0c83a",
   "metadata": {},
   "outputs": [
    {
     "data": {
      "text/plain": [
       "1.3257505173079152"
      ]
     },
     "execution_count": 40,
     "metadata": {},
     "output_type": "execute_result"
    }
   ],
   "source": [
    "np.arccos(0.24260076602721178)"
   ]
  },
  {
   "cell_type": "code",
   "execution_count": 44,
   "id": "f374ee1b-b93b-41aa-9e8a-4664f640426f",
   "metadata": {},
   "outputs": [
    {
     "data": {
      "text/plain": [
       "3.6868474742041175e+22"
      ]
     },
     "execution_count": 44,
     "metadata": {},
     "output_type": "execute_result"
    }
   ],
   "source": [
    "sun = 1.99*10**30\n",
    "saturn = 5.68*10**26\n",
    "r = 1.43*10**12\n",
    "G = 6.67*10**-11\n",
    "\n",
    "F = (G*sun*saturn)/(r**2)\n",
    "F"
   ]
  },
  {
   "cell_type": "code",
   "execution_count": null,
   "id": "ff4af80e-688d-4021-931e-d2f2a4ab03c2",
   "metadata": {},
   "outputs": [],
   "source": []
  }
 ],
 "metadata": {
  "kernelspec": {
   "display_name": "Python 3 (ipykernel)",
   "language": "python",
   "name": "python3"
  },
  "language_info": {
   "codemirror_mode": {
    "name": "ipython",
    "version": 3
   },
   "file_extension": ".py",
   "mimetype": "text/x-python",
   "name": "python",
   "nbconvert_exporter": "python",
   "pygments_lexer": "ipython3",
   "version": "3.10.6"
  }
 },
 "nbformat": 4,
 "nbformat_minor": 5
}
