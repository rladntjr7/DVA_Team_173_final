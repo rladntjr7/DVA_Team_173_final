{
 "cells": [
  {
   "cell_type": "code",
   "execution_count": 1,
   "id": "9af8efc7-ee79-4c18-bcd8-94e19361a030",
   "metadata": {},
   "outputs": [],
   "source": [
    "import pandas as pd\n",
    "import numpy as np\n",
    "from datetime import datetime\n",
    "import string"
   ]
  },
  {
   "cell_type": "code",
   "execution_count": 2,
   "id": "a233eaef-6869-426e-8f26-d423de9ed04c",
   "metadata": {},
   "outputs": [
    {
     "name": "stdout",
     "output_type": "stream",
     "text": [
      "tweets_labelled_09042020_16072020.csv  tweets_remaining_09042020_16072020.csv\n"
     ]
    }
   ],
   "source": [
    "!ls ../data_full/raw/twitter_data/kaggle/"
   ]
  },
  {
   "cell_type": "code",
   "execution_count": 3,
   "id": "763503e4-bd9c-4921-91d8-02b4f7ee2b80",
   "metadata": {},
   "outputs": [],
   "source": [
    "fp_label = \"../data_full/raw/twitter_data/kaggle/tweets_labelled_09042020_16072020.csv\"\n",
    "df_label = pd.read_csv(fp_label, delimiter=';', encoding='utf-8', on_bad_lines='skip')"
   ]
  },
  {
   "cell_type": "code",
   "execution_count": 5,
   "id": "5bc6fd36-9bb7-44a9-b9ba-2413a5b60624",
   "metadata": {},
   "outputs": [
    {
     "data": {
      "text/html": [
       "<div>\n",
       "<style scoped>\n",
       "    .dataframe tbody tr th:only-of-type {\n",
       "        vertical-align: middle;\n",
       "    }\n",
       "\n",
       "    .dataframe tbody tr th {\n",
       "        vertical-align: top;\n",
       "    }\n",
       "\n",
       "    .dataframe thead th {\n",
       "        text-align: right;\n",
       "    }\n",
       "</style>\n",
       "<table border=\"1\" class=\"dataframe\">\n",
       "  <thead>\n",
       "    <tr style=\"text-align: right;\">\n",
       "      <th></th>\n",
       "      <th>id</th>\n",
       "      <th>created_at</th>\n",
       "      <th>text</th>\n",
       "      <th>sentiment</th>\n",
       "    </tr>\n",
       "  </thead>\n",
       "  <tbody>\n",
       "    <tr>\n",
       "      <th>0</th>\n",
       "      <td>77522</td>\n",
       "      <td>2020-04-15 01:03:46+00:00</td>\n",
       "      <td>RT @RobertBeadles: Yo💥\\nEnter to WIN 1,000 Mon...</td>\n",
       "      <td>positive</td>\n",
       "    </tr>\n",
       "    <tr>\n",
       "      <th>1</th>\n",
       "      <td>661634</td>\n",
       "      <td>2020-06-25 06:20:06+00:00</td>\n",
       "      <td>#SriLanka surcharge on fuel removed!\\n⛽📉\\nThe ...</td>\n",
       "      <td>negative</td>\n",
       "    </tr>\n",
       "    <tr>\n",
       "      <th>2</th>\n",
       "      <td>413231</td>\n",
       "      <td>2020-06-04 15:41:45+00:00</td>\n",
       "      <td>Net issuance increases to fund fiscal programs...</td>\n",
       "      <td>positive</td>\n",
       "    </tr>\n",
       "    <tr>\n",
       "      <th>3</th>\n",
       "      <td>760262</td>\n",
       "      <td>2020-07-03 19:39:35+00:00</td>\n",
       "      <td>RT @bentboolean: How much of Amazon's traffic ...</td>\n",
       "      <td>positive</td>\n",
       "    </tr>\n",
       "    <tr>\n",
       "      <th>4</th>\n",
       "      <td>830153</td>\n",
       "      <td>2020-07-09 14:39:14+00:00</td>\n",
       "      <td>$AMD Ryzen 4000 desktop CPUs looking ‘great’ a...</td>\n",
       "      <td>positive</td>\n",
       "    </tr>\n",
       "  </tbody>\n",
       "</table>\n",
       "</div>"
      ],
      "text/plain": [
       "       id                 created_at  \\\n",
       "0   77522  2020-04-15 01:03:46+00:00   \n",
       "1  661634  2020-06-25 06:20:06+00:00   \n",
       "2  413231  2020-06-04 15:41:45+00:00   \n",
       "3  760262  2020-07-03 19:39:35+00:00   \n",
       "4  830153  2020-07-09 14:39:14+00:00   \n",
       "\n",
       "                                                text sentiment  \n",
       "0  RT @RobertBeadles: Yo💥\\nEnter to WIN 1,000 Mon...  positive  \n",
       "1  #SriLanka surcharge on fuel removed!\\n⛽📉\\nThe ...  negative  \n",
       "2  Net issuance increases to fund fiscal programs...  positive  \n",
       "3  RT @bentboolean: How much of Amazon's traffic ...  positive  \n",
       "4  $AMD Ryzen 4000 desktop CPUs looking ‘great’ a...  positive  "
      ]
     },
     "execution_count": 5,
     "metadata": {},
     "output_type": "execute_result"
    }
   ],
   "source": [
    "df_label.head()"
   ]
  },
  {
   "cell_type": "code",
   "execution_count": 27,
   "id": "99a40fff-59d6-4e13-826d-593d896b1c13",
   "metadata": {},
   "outputs": [
    {
     "data": {
      "text/plain": [
       "(0.74, (5000, 4))"
      ]
     },
     "execution_count": 27,
     "metadata": {},
     "output_type": "execute_result"
    }
   ],
   "source": [
    "df_label[\"sentiment\"].isna().mean(), df_label.shape"
   ]
  },
  {
   "cell_type": "code",
   "execution_count": 19,
   "id": "c1bcdf40-78d7-41bc-ac7b-15928a292bde",
   "metadata": {},
   "outputs": [
    {
     "data": {
      "text/plain": [
       "positive    528\n",
       "neutral     424\n",
       "negative    348\n",
       "Name: sentiment, dtype: int64"
      ]
     },
     "execution_count": 19,
     "metadata": {},
     "output_type": "execute_result"
    }
   ],
   "source": [
    "\n",
    "df_label[\"sentiment\"].value_counts()"
   ]
  },
  {
   "cell_type": "markdown",
   "id": "c38d1a46-c97a-440d-8228-36695e5c24fc",
   "metadata": {},
   "source": [
    "## no label"
   ]
  },
  {
   "cell_type": "code",
   "execution_count": 28,
   "id": "92583ba7-0708-4df9-8d03-4c5167d94f61",
   "metadata": {},
   "outputs": [],
   "source": [
    "fp_nolabel = \"../data_full/raw/twitter_data/kaggle/tweets_remaining_09042020_16072020.csv\"\n",
    "df_nolabel = pd.read_csv(fp_nolabel, delimiter=';', encoding='utf-8', on_bad_lines='skip')"
   ]
  },
  {
   "cell_type": "code",
   "execution_count": 33,
   "id": "24d7232d-87ca-4121-ad42-11de8102d693",
   "metadata": {},
   "outputs": [],
   "source": [
    "df_nolabel[\"created_date\"] = pd.to_datetime(df_nolabel[\"created_at\"]).dt.date"
   ]
  },
  {
   "cell_type": "code",
   "execution_count": 34,
   "id": "0b3ab5ea-c83c-42b2-aff0-713cbbdc9208",
   "metadata": {},
   "outputs": [
    {
     "data": {
      "text/plain": [
       "2020-04-09    13941\n",
       "2020-04-10     6639\n",
       "2020-04-11     5308\n",
       "2020-04-12     6150\n",
       "2020-04-13    12602\n",
       "              ...  \n",
       "2020-07-12     7450\n",
       "2020-07-13    19066\n",
       "2020-07-14    17296\n",
       "2020-07-15    16682\n",
       "2020-07-16    14127\n",
       "Name: created_date, Length: 77, dtype: int64"
      ]
     },
     "execution_count": 34,
     "metadata": {},
     "output_type": "execute_result"
    }
   ],
   "source": [
    " df_nolabel[\"created_date\"].value_counts().sort_index()"
   ]
  },
  {
   "cell_type": "code",
   "execution_count": 35,
   "id": "37af3dd0-91f9-4df9-a658-d2dd267e895c",
   "metadata": {},
   "outputs": [
    {
     "data": {
      "text/html": [
       "<div>\n",
       "<style scoped>\n",
       "    .dataframe tbody tr th:only-of-type {\n",
       "        vertical-align: middle;\n",
       "    }\n",
       "\n",
       "    .dataframe tbody tr th {\n",
       "        vertical-align: top;\n",
       "    }\n",
       "\n",
       "    .dataframe thead th {\n",
       "        text-align: right;\n",
       "    }\n",
       "</style>\n",
       "<table border=\"1\" class=\"dataframe\">\n",
       "  <thead>\n",
       "    <tr style=\"text-align: right;\">\n",
       "      <th></th>\n",
       "      <th>id</th>\n",
       "      <th>created_at</th>\n",
       "      <th>full_text</th>\n",
       "      <th>created_date</th>\n",
       "    </tr>\n",
       "  </thead>\n",
       "  <tbody>\n",
       "    <tr>\n",
       "      <th>0</th>\n",
       "      <td>1</td>\n",
       "      <td>2020-04-09 23:59:51+00:00</td>\n",
       "      <td>@KennyDegu very very little volume. With $10T ...</td>\n",
       "      <td>2020-04-09</td>\n",
       "    </tr>\n",
       "    <tr>\n",
       "      <th>1</th>\n",
       "      <td>2</td>\n",
       "      <td>2020-04-09 23:58:55+00:00</td>\n",
       "      <td>#ES_F achieved Target 2780 closing above 50% #...</td>\n",
       "      <td>2020-04-09</td>\n",
       "    </tr>\n",
       "    <tr>\n",
       "      <th>2</th>\n",
       "      <td>3</td>\n",
       "      <td>2020-04-09 23:58:52+00:00</td>\n",
       "      <td>RT @KimbleCharting: Silver/Gold indicator crea...</td>\n",
       "      <td>2020-04-09</td>\n",
       "    </tr>\n",
       "    <tr>\n",
       "      <th>3</th>\n",
       "      <td>4</td>\n",
       "      <td>2020-04-09 23:58:27+00:00</td>\n",
       "      <td>@Issaquahfunds Hedged our $MSFT position into ...</td>\n",
       "      <td>2020-04-09</td>\n",
       "    </tr>\n",
       "    <tr>\n",
       "      <th>4</th>\n",
       "      <td>5</td>\n",
       "      <td>2020-04-09 23:57:59+00:00</td>\n",
       "      <td>RT @zipillinois: 3 Surprisingly Controversial ...</td>\n",
       "      <td>2020-04-09</td>\n",
       "    </tr>\n",
       "    <tr>\n",
       "      <th>...</th>\n",
       "      <td>...</td>\n",
       "      <td>...</td>\n",
       "      <td>...</td>\n",
       "      <td>...</td>\n",
       "    </tr>\n",
       "    <tr>\n",
       "      <th>923668</th>\n",
       "      <td>938668</td>\n",
       "      <td>2020-07-16 00:00:25+00:00</td>\n",
       "      <td>RT @MadMraket: We tend to spend lot of time in...</td>\n",
       "      <td>2020-07-16</td>\n",
       "    </tr>\n",
       "    <tr>\n",
       "      <th>923669</th>\n",
       "      <td>938669</td>\n",
       "      <td>2020-07-16 00:00:23+00:00</td>\n",
       "      <td>You \\n\\n$SPX $SPY #ES_F</td>\n",
       "      <td>2020-07-16</td>\n",
       "    </tr>\n",
       "    <tr>\n",
       "      <th>923670</th>\n",
       "      <td>938670</td>\n",
       "      <td>2020-07-16 00:00:23+00:00</td>\n",
       "      <td>$KO Coca-Cola #Options #maxpain Chart, Open In...</td>\n",
       "      <td>2020-07-16</td>\n",
       "    </tr>\n",
       "    <tr>\n",
       "      <th>923671</th>\n",
       "      <td>938671</td>\n",
       "      <td>2020-07-16 00:00:06+00:00</td>\n",
       "      <td>Here's a dividends watchlist \\nfor the 01/04/0...</td>\n",
       "      <td>2020-07-16</td>\n",
       "    </tr>\n",
       "    <tr>\n",
       "      <th>923672</th>\n",
       "      <td>938672</td>\n",
       "      <td>2020-07-16 00:00:00+00:00</td>\n",
       "      <td>$AAL $TWTR $SPCE $AZN $ERI $RCL $JNJ $AA $SNBR...</td>\n",
       "      <td>2020-07-16</td>\n",
       "    </tr>\n",
       "  </tbody>\n",
       "</table>\n",
       "<p>923673 rows × 4 columns</p>\n",
       "</div>"
      ],
      "text/plain": [
       "            id                 created_at  \\\n",
       "0            1  2020-04-09 23:59:51+00:00   \n",
       "1            2  2020-04-09 23:58:55+00:00   \n",
       "2            3  2020-04-09 23:58:52+00:00   \n",
       "3            4  2020-04-09 23:58:27+00:00   \n",
       "4            5  2020-04-09 23:57:59+00:00   \n",
       "...        ...                        ...   \n",
       "923668  938668  2020-07-16 00:00:25+00:00   \n",
       "923669  938669  2020-07-16 00:00:23+00:00   \n",
       "923670  938670  2020-07-16 00:00:23+00:00   \n",
       "923671  938671  2020-07-16 00:00:06+00:00   \n",
       "923672  938672  2020-07-16 00:00:00+00:00   \n",
       "\n",
       "                                                full_text created_date  \n",
       "0       @KennyDegu very very little volume. With $10T ...   2020-04-09  \n",
       "1       #ES_F achieved Target 2780 closing above 50% #...   2020-04-09  \n",
       "2       RT @KimbleCharting: Silver/Gold indicator crea...   2020-04-09  \n",
       "3       @Issaquahfunds Hedged our $MSFT position into ...   2020-04-09  \n",
       "4       RT @zipillinois: 3 Surprisingly Controversial ...   2020-04-09  \n",
       "...                                                   ...          ...  \n",
       "923668  RT @MadMraket: We tend to spend lot of time in...   2020-07-16  \n",
       "923669                            You \\n\\n$SPX $SPY #ES_F   2020-07-16  \n",
       "923670  $KO Coca-Cola #Options #maxpain Chart, Open In...   2020-07-16  \n",
       "923671  Here's a dividends watchlist \\nfor the 01/04/0...   2020-07-16  \n",
       "923672  $AAL $TWTR $SPCE $AZN $ERI $RCL $JNJ $AA $SNBR...   2020-07-16  \n",
       "\n",
       "[923673 rows x 4 columns]"
      ]
     },
     "execution_count": 35,
     "metadata": {},
     "output_type": "execute_result"
    }
   ],
   "source": [
    " df_nolabel"
   ]
  }
 ],
 "metadata": {
  "kernelspec": {
   "display_name": "Python 3 (ipykernel)",
   "language": "python",
   "name": "python3"
  },
  "language_info": {
   "codemirror_mode": {
    "name": "ipython",
    "version": 3
   },
   "file_extension": ".py",
   "mimetype": "text/x-python",
   "name": "python",
   "nbconvert_exporter": "python",
   "pygments_lexer": "ipython3",
   "version": "3.10.6"
  }
 },
 "nbformat": 4,
 "nbformat_minor": 5
}
